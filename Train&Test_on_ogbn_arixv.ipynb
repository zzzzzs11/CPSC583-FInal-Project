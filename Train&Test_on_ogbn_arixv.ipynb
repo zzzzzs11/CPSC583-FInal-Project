{
 "cells": [
  {
   "cell_type": "code",
   "execution_count": 69,
   "id": "rSi88Y0S0XGO",
   "metadata": {
    "colab": {
     "base_uri": "https://localhost:8080/"
    },
    "id": "rSi88Y0S0XGO",
    "outputId": "9158743e-43d7-447c-b5b5-b2f30c58d258"
   },
   "outputs": [
    {
     "name": "stdout",
     "output_type": "stream",
     "text": [
      "Drive already mounted at /content/drive; to attempt to forcibly remount, call drive.mount(\"/content/drive\", force_remount=True).\n"
     ]
    }
   ],
   "source": [
    "from google.colab import drive\n",
    "drive.mount('/content/drive')"
   ]
  },
  {
   "cell_type": "markdown",
   "id": "py-M1M4cThuM",
   "metadata": {
    "id": "py-M1M4cThuM"
   },
   "source": [
    "# ogbn_arixv"
   ]
  },
  {
   "cell_type": "code",
   "execution_count": 70,
   "id": "eAB0Fu7_0cjA",
   "metadata": {
    "colab": {
     "base_uri": "https://localhost:8080/"
    },
    "id": "eAB0Fu7_0cjA",
    "outputId": "ddacda1a-d50d-49f9-88ef-57ea02043b4b"
   },
   "outputs": [
    {
     "name": "stdout",
     "output_type": "stream",
     "text": [
      "/content/drive/MyDrive/graph final project\n"
     ]
    }
   ],
   "source": [
    "cd /content/drive/MyDrive/graph final project"
   ]
  },
  {
   "cell_type": "code",
   "execution_count": 71,
   "id": "1319d4a3",
   "metadata": {
    "colab": {
     "base_uri": "https://localhost:8080/"
    },
    "id": "1319d4a3",
    "outputId": "9fa88bbb-c2d6-4bcb-e30b-70a8b357e0c5"
   },
   "outputs": [
    {
     "name": "stdout",
     "output_type": "stream",
     "text": [
      "Using torch 2.1.0+cu118\n",
      "11.8\n"
     ]
    }
   ],
   "source": [
    "# import the pytorch library into environment and check its version\n",
    "import os\n",
    "import torch\n",
    "print(\"Using torch\", torch.__version__)\n",
    "print(torch.version.cuda)"
   ]
  },
  {
   "cell_type": "code",
   "execution_count": 72,
   "id": "KzGLkXvt0hS2",
   "metadata": {
    "colab": {
     "base_uri": "https://localhost:8080/"
    },
    "id": "KzGLkXvt0hS2",
    "outputId": "94f0936f-83cd-469e-b309-c009430c1601"
   },
   "outputs": [
    {
     "name": "stdout",
     "output_type": "stream",
     "text": [
      "Looking in links: https://pytorch-geometric.com/whl/torch-2.1.0+cu118.html\n",
      "Requirement already satisfied: torch-scatter in /usr/local/lib/python3.10/dist-packages (2.1.2+pt21cu118)\n",
      "Looking in links: https://pytorch-geometric.com/whl/torch-2.1.0+cu118.html\n",
      "Requirement already satisfied: torch-sparse in /usr/local/lib/python3.10/dist-packages (0.6.18+pt21cu118)\n",
      "Requirement already satisfied: scipy in /usr/local/lib/python3.10/dist-packages (from torch-sparse) (1.11.4)\n",
      "Requirement already satisfied: numpy<1.28.0,>=1.21.6 in /usr/local/lib/python3.10/dist-packages (from scipy->torch-sparse) (1.23.5)\n",
      "Requirement already satisfied: torch-geometric in /usr/local/lib/python3.10/dist-packages (2.4.0)\n",
      "Requirement already satisfied: tqdm in /usr/local/lib/python3.10/dist-packages (from torch-geometric) (4.66.1)\n",
      "Requirement already satisfied: numpy in /usr/local/lib/python3.10/dist-packages (from torch-geometric) (1.23.5)\n",
      "Requirement already satisfied: scipy in /usr/local/lib/python3.10/dist-packages (from torch-geometric) (1.11.4)\n",
      "Requirement already satisfied: jinja2 in /usr/local/lib/python3.10/dist-packages (from torch-geometric) (3.1.2)\n",
      "Requirement already satisfied: requests in /usr/local/lib/python3.10/dist-packages (from torch-geometric) (2.31.0)\n",
      "Requirement already satisfied: pyparsing in /usr/local/lib/python3.10/dist-packages (from torch-geometric) (3.1.1)\n",
      "Requirement already satisfied: scikit-learn in /usr/local/lib/python3.10/dist-packages (from torch-geometric) (1.2.2)\n",
      "Requirement already satisfied: psutil>=5.8.0 in /usr/local/lib/python3.10/dist-packages (from torch-geometric) (5.9.5)\n",
      "Requirement already satisfied: MarkupSafe>=2.0 in /usr/local/lib/python3.10/dist-packages (from jinja2->torch-geometric) (2.1.3)\n",
      "Requirement already satisfied: charset-normalizer<4,>=2 in /usr/local/lib/python3.10/dist-packages (from requests->torch-geometric) (3.3.2)\n",
      "Requirement already satisfied: idna<4,>=2.5 in /usr/local/lib/python3.10/dist-packages (from requests->torch-geometric) (3.6)\n",
      "Requirement already satisfied: urllib3<3,>=1.21.1 in /usr/local/lib/python3.10/dist-packages (from requests->torch-geometric) (2.0.7)\n",
      "Requirement already satisfied: certifi>=2017.4.17 in /usr/local/lib/python3.10/dist-packages (from requests->torch-geometric) (2023.11.17)\n",
      "Requirement already satisfied: joblib>=1.1.1 in /usr/local/lib/python3.10/dist-packages (from scikit-learn->torch-geometric) (1.3.2)\n",
      "Requirement already satisfied: threadpoolctl>=2.0.0 in /usr/local/lib/python3.10/dist-packages (from scikit-learn->torch-geometric) (3.2.0)\n",
      "Requirement already satisfied: ogb in /usr/local/lib/python3.10/dist-packages (1.3.6)\n",
      "Requirement already satisfied: torch>=1.6.0 in /usr/local/lib/python3.10/dist-packages (from ogb) (2.1.0+cu118)\n",
      "Requirement already satisfied: numpy>=1.16.0 in /usr/local/lib/python3.10/dist-packages (from ogb) (1.23.5)\n",
      "Requirement already satisfied: tqdm>=4.29.0 in /usr/local/lib/python3.10/dist-packages (from ogb) (4.66.1)\n",
      "Requirement already satisfied: scikit-learn>=0.20.0 in /usr/local/lib/python3.10/dist-packages (from ogb) (1.2.2)\n",
      "Requirement already satisfied: pandas>=0.24.0 in /usr/local/lib/python3.10/dist-packages (from ogb) (1.5.3)\n",
      "Requirement already satisfied: six>=1.12.0 in /usr/local/lib/python3.10/dist-packages (from ogb) (1.16.0)\n",
      "Requirement already satisfied: urllib3>=1.24.0 in /usr/local/lib/python3.10/dist-packages (from ogb) (2.0.7)\n",
      "Requirement already satisfied: outdated>=0.2.0 in /usr/local/lib/python3.10/dist-packages (from ogb) (0.2.2)\n",
      "Requirement already satisfied: setuptools>=44 in /usr/local/lib/python3.10/dist-packages (from outdated>=0.2.0->ogb) (67.7.2)\n",
      "Requirement already satisfied: littleutils in /usr/local/lib/python3.10/dist-packages (from outdated>=0.2.0->ogb) (0.2.2)\n",
      "Requirement already satisfied: requests in /usr/local/lib/python3.10/dist-packages (from outdated>=0.2.0->ogb) (2.31.0)\n",
      "Requirement already satisfied: python-dateutil>=2.8.1 in /usr/local/lib/python3.10/dist-packages (from pandas>=0.24.0->ogb) (2.8.2)\n",
      "Requirement already satisfied: pytz>=2020.1 in /usr/local/lib/python3.10/dist-packages (from pandas>=0.24.0->ogb) (2023.3.post1)\n",
      "Requirement already satisfied: scipy>=1.3.2 in /usr/local/lib/python3.10/dist-packages (from scikit-learn>=0.20.0->ogb) (1.11.4)\n",
      "Requirement already satisfied: joblib>=1.1.1 in /usr/local/lib/python3.10/dist-packages (from scikit-learn>=0.20.0->ogb) (1.3.2)\n",
      "Requirement already satisfied: threadpoolctl>=2.0.0 in /usr/local/lib/python3.10/dist-packages (from scikit-learn>=0.20.0->ogb) (3.2.0)\n",
      "Requirement already satisfied: filelock in /usr/local/lib/python3.10/dist-packages (from torch>=1.6.0->ogb) (3.13.1)\n",
      "Requirement already satisfied: typing-extensions in /usr/local/lib/python3.10/dist-packages (from torch>=1.6.0->ogb) (4.5.0)\n",
      "Requirement already satisfied: sympy in /usr/local/lib/python3.10/dist-packages (from torch>=1.6.0->ogb) (1.12)\n",
      "Requirement already satisfied: networkx in /usr/local/lib/python3.10/dist-packages (from torch>=1.6.0->ogb) (3.2.1)\n",
      "Requirement already satisfied: jinja2 in /usr/local/lib/python3.10/dist-packages (from torch>=1.6.0->ogb) (3.1.2)\n",
      "Requirement already satisfied: fsspec in /usr/local/lib/python3.10/dist-packages (from torch>=1.6.0->ogb) (2023.6.0)\n",
      "Requirement already satisfied: triton==2.1.0 in /usr/local/lib/python3.10/dist-packages (from torch>=1.6.0->ogb) (2.1.0)\n",
      "Requirement already satisfied: MarkupSafe>=2.0 in /usr/local/lib/python3.10/dist-packages (from jinja2->torch>=1.6.0->ogb) (2.1.3)\n",
      "Requirement already satisfied: charset-normalizer<4,>=2 in /usr/local/lib/python3.10/dist-packages (from requests->outdated>=0.2.0->ogb) (3.3.2)\n",
      "Requirement already satisfied: idna<4,>=2.5 in /usr/local/lib/python3.10/dist-packages (from requests->outdated>=0.2.0->ogb) (3.6)\n",
      "Requirement already satisfied: certifi>=2017.4.17 in /usr/local/lib/python3.10/dist-packages (from requests->outdated>=0.2.0->ogb) (2023.11.17)\n",
      "Requirement already satisfied: mpmath>=0.19 in /usr/local/lib/python3.10/dist-packages (from sympy->torch>=1.6.0->ogb) (1.3.0)\n",
      "Requirement already satisfied: ogb in /usr/local/lib/python3.10/dist-packages (1.3.6)\n",
      "Requirement already satisfied: torch>=1.6.0 in /usr/local/lib/python3.10/dist-packages (from ogb) (2.1.0+cu118)\n",
      "Requirement already satisfied: numpy>=1.16.0 in /usr/local/lib/python3.10/dist-packages (from ogb) (1.23.5)\n",
      "Requirement already satisfied: tqdm>=4.29.0 in /usr/local/lib/python3.10/dist-packages (from ogb) (4.66.1)\n",
      "Requirement already satisfied: scikit-learn>=0.20.0 in /usr/local/lib/python3.10/dist-packages (from ogb) (1.2.2)\n",
      "Requirement already satisfied: pandas>=0.24.0 in /usr/local/lib/python3.10/dist-packages (from ogb) (1.5.3)\n",
      "Requirement already satisfied: six>=1.12.0 in /usr/local/lib/python3.10/dist-packages (from ogb) (1.16.0)\n",
      "Requirement already satisfied: urllib3>=1.24.0 in /usr/local/lib/python3.10/dist-packages (from ogb) (2.0.7)\n",
      "Requirement already satisfied: outdated>=0.2.0 in /usr/local/lib/python3.10/dist-packages (from ogb) (0.2.2)\n",
      "Requirement already satisfied: setuptools>=44 in /usr/local/lib/python3.10/dist-packages (from outdated>=0.2.0->ogb) (67.7.2)\n",
      "Requirement already satisfied: littleutils in /usr/local/lib/python3.10/dist-packages (from outdated>=0.2.0->ogb) (0.2.2)\n",
      "Requirement already satisfied: requests in /usr/local/lib/python3.10/dist-packages (from outdated>=0.2.0->ogb) (2.31.0)\n",
      "Requirement already satisfied: python-dateutil>=2.8.1 in /usr/local/lib/python3.10/dist-packages (from pandas>=0.24.0->ogb) (2.8.2)\n",
      "Requirement already satisfied: pytz>=2020.1 in /usr/local/lib/python3.10/dist-packages (from pandas>=0.24.0->ogb) (2023.3.post1)\n",
      "Requirement already satisfied: scipy>=1.3.2 in /usr/local/lib/python3.10/dist-packages (from scikit-learn>=0.20.0->ogb) (1.11.4)\n",
      "Requirement already satisfied: joblib>=1.1.1 in /usr/local/lib/python3.10/dist-packages (from scikit-learn>=0.20.0->ogb) (1.3.2)\n",
      "Requirement already satisfied: threadpoolctl>=2.0.0 in /usr/local/lib/python3.10/dist-packages (from scikit-learn>=0.20.0->ogb) (3.2.0)\n",
      "Requirement already satisfied: filelock in /usr/local/lib/python3.10/dist-packages (from torch>=1.6.0->ogb) (3.13.1)\n",
      "Requirement already satisfied: typing-extensions in /usr/local/lib/python3.10/dist-packages (from torch>=1.6.0->ogb) (4.5.0)\n",
      "Requirement already satisfied: sympy in /usr/local/lib/python3.10/dist-packages (from torch>=1.6.0->ogb) (1.12)\n",
      "Requirement already satisfied: networkx in /usr/local/lib/python3.10/dist-packages (from torch>=1.6.0->ogb) (3.2.1)\n",
      "Requirement already satisfied: jinja2 in /usr/local/lib/python3.10/dist-packages (from torch>=1.6.0->ogb) (3.1.2)\n",
      "Requirement already satisfied: fsspec in /usr/local/lib/python3.10/dist-packages (from torch>=1.6.0->ogb) (2023.6.0)\n",
      "Requirement already satisfied: triton==2.1.0 in /usr/local/lib/python3.10/dist-packages (from torch>=1.6.0->ogb) (2.1.0)\n",
      "Requirement already satisfied: MarkupSafe>=2.0 in /usr/local/lib/python3.10/dist-packages (from jinja2->torch>=1.6.0->ogb) (2.1.3)\n",
      "Requirement already satisfied: charset-normalizer<4,>=2 in /usr/local/lib/python3.10/dist-packages (from requests->outdated>=0.2.0->ogb) (3.3.2)\n",
      "Requirement already satisfied: idna<4,>=2.5 in /usr/local/lib/python3.10/dist-packages (from requests->outdated>=0.2.0->ogb) (3.6)\n",
      "Requirement already satisfied: certifi>=2017.4.17 in /usr/local/lib/python3.10/dist-packages (from requests->outdated>=0.2.0->ogb) (2023.11.17)\n",
      "Requirement already satisfied: mpmath>=0.19 in /usr/local/lib/python3.10/dist-packages (from sympy->torch>=1.6.0->ogb) (1.3.0)\n"
     ]
    }
   ],
   "source": [
    "# Install torch geometric\n",
    "!pip install torch-scatter -f https://pytorch-geometric.com/whl/torch-{torch.__version__}.html\n",
    "!pip install torch-sparse -f https://pytorch-geometric.com/whl/torch-{torch.__version__}.html\n",
    "!pip install torch-geometric\n",
    "!pip install ogb\n",
    "!pip install ogb --upgrade"
   ]
  },
  {
   "cell_type": "code",
   "execution_count": 73,
   "id": "eacbdec6",
   "metadata": {
    "id": "eacbdec6"
   },
   "outputs": [],
   "source": [
    "from ogb.nodeproppred import PygNodePropPredDataset, Evaluator\n",
    "import torch.nn.functional as F\n",
    "from torch_geometric.nn import GCNConv\n",
    "import torch_geometric.transforms as T\n",
    "from torch_geometric.data import DataLoader\n",
    "import numpy as np\n",
    "from torch_geometric.typing import SparseTensor\n",
    "import pandas as pd"
   ]
  },
  {
   "cell_type": "code",
   "execution_count": 74,
   "id": "5e6d29aa",
   "metadata": {
    "colab": {
     "base_uri": "https://localhost:8080/"
    },
    "id": "5e6d29aa",
    "outputId": "2bbabe1e-8788-4286-f70e-8fea4df32100"
   },
   "outputs": [
    {
     "name": "stdout",
     "output_type": "stream",
     "text": [
      "Device: cuda\n"
     ]
    }
   ],
   "source": [
    "#dataset_name = 'ogbn-products'\n",
    "dataset_name = 'ogbn-arxiv'\n",
    "dataset = PygNodePropPredDataset(name=dataset_name,\n",
    "                                 transform=T.ToSparseTensor())\n",
    "data = dataset[0]\n",
    "\n",
    "device = 'cuda' if torch.cuda.is_available() else 'cpu'\n",
    "\n",
    "# If you use GPU, the device should be cuda\n",
    "print('Device: {}'.format(device))\n",
    "\n",
    "# data = data.to(device)\n",
    "# split_idx = dataset.get_idx_split()\n",
    "# train_idx = split_idx['train'].to(device)"
   ]
  },
  {
   "cell_type": "code",
   "execution_count": 75,
   "id": "rE7EqHYYASQT",
   "metadata": {
    "colab": {
     "base_uri": "https://localhost:8080/"
    },
    "id": "rE7EqHYYASQT",
    "outputId": "e352b8d8-1583-49ce-9716-5f2e6b908dde"
   },
   "outputs": [
    {
     "data": {
      "text/plain": [
       "Data(num_nodes=169343, x=[169343, 128], node_year=[169343, 1], y=[169343, 1], adj_t=[169343, 169343, nnz=1166243])"
      ]
     },
     "execution_count": 75,
     "metadata": {},
     "output_type": "execute_result"
    }
   ],
   "source": [
    "data"
   ]
  },
  {
   "cell_type": "code",
   "execution_count": 76,
   "id": "yK4fhCTE6ntg",
   "metadata": {
    "colab": {
     "base_uri": "https://localhost:8080/"
    },
    "id": "yK4fhCTE6ntg",
    "outputId": "9602597f-66e9-41ee-c028-84bbd7e1f057"
   },
   "outputs": [
    {
     "data": {
      "text/plain": [
       "Data(num_nodes=90000, x=[90000, 128], node_year=[90000, 1], y=[90000, 1], adj_t=[90000, 90000, nnz=339066], edge_index=[2, 339066])"
      ]
     },
     "execution_count": 76,
     "metadata": {},
     "output_type": "execute_result"
    }
   ],
   "source": [
    "# We need to have edge indxes to make a subgraph. We can get those from the adjacency matrix.\n",
    "data.edge_index = torch.stack([data.adj_t.__dict__[\"storage\"]._row, data.adj_t.__dict__[\"storage\"]._col])\n",
    "\n",
    "# We will only use the first 100000 nodes.\n",
    "sub_nodes = 90000\n",
    "sub_graph = data.subgraph(torch.arange(sub_nodes))\n",
    "\n",
    "# Update the adjaceny matrix according to the new graph\n",
    "sub_graph.adj_t = SparseTensor(\n",
    "    row=sub_graph.edge_index[0],\n",
    "    col=sub_graph.edge_index[1],\n",
    "    sparse_sizes=None,\n",
    "    is_sorted=True,\n",
    "    trust_data=True,\n",
    ")\n",
    "\n",
    "sub_graph = sub_graph.to(device)\n",
    "\n",
    "sub_graph\n",
    "\n",
    "\n"
   ]
  },
  {
   "cell_type": "code",
   "execution_count": 77,
   "id": "4fd3e0be",
   "metadata": {
    "colab": {
     "base_uri": "https://localhost:8080/"
    },
    "id": "4fd3e0be",
    "outputId": "c148c0dd-a5b2-4a05-a44e-78e2a33f4285"
   },
   "outputs": [
    {
     "name": "stdout",
     "output_type": "stream",
     "text": [
      "Task type: multiclass classification\n"
     ]
    }
   ],
   "source": [
    "# Check task type\n",
    "print('Task type: {}'.format(dataset.task_type))"
   ]
  },
  {
   "cell_type": "code",
   "execution_count": 78,
   "id": "c4d65dbb",
   "metadata": {
    "colab": {
     "base_uri": "https://localhost:8080/"
    },
    "id": "c4d65dbb",
    "outputId": "fdceef32-d618-402a-d87e-b6dcc59adf0a"
   },
   "outputs": [
    {
     "data": {
      "text/plain": [
       "{'train': tensor([78639, 81348, 22215,  ...,  8754, 58685, 26121]),\n",
       " 'valid': tensor([47478,  5493, 58186,  ...,  2908, 69421, 87054]),\n",
       " 'test': tensor([37962, 12195, 85939,  ..., 12272, 65481, 20457])}"
      ]
     },
     "execution_count": 78,
     "metadata": {},
     "output_type": "execute_result"
    }
   ],
   "source": [
    "# Spilt data into train validation and test set\n",
    "split_sizes = [int(sub_nodes*0.8),int(sub_nodes*0.05),sub_nodes - int(sub_nodes*0.8) - int(sub_nodes*0.05)]\n",
    "indices = torch.arange(sub_nodes)\n",
    "np.random.shuffle(indices.numpy())\n",
    "split_idx = {s:t for t,s in zip(torch.split(indices, split_sizes, dim=0), [\"train\", \"valid\", \"test\"])}\n",
    "split_idx"
   ]
  },
  {
   "cell_type": "code",
   "execution_count": 79,
   "id": "H-KLjQ0x7jxM",
   "metadata": {
    "colab": {
     "base_uri": "https://localhost:8080/"
    },
    "id": "H-KLjQ0x7jxM",
    "outputId": "2f42f5d2-3a33-4986-b546-1eea8cf85ecf"
   },
   "outputs": [
    {
     "name": "stdout",
     "output_type": "stream",
     "text": [
      "Number of nodes in train set: 72000\n",
      "Number of nodes in valid set: 4500\n",
      "Number of nodes in test set: 13500\n"
     ]
    }
   ],
   "source": [
    "print(\"Number of nodes in train set:\", len(split_idx['train']))\n",
    "print(\"Number of nodes in valid set:\", len(split_idx['valid']))\n",
    "print(\"Number of nodes in test set:\", len(split_idx['test']))"
   ]
  },
  {
   "cell_type": "code",
   "execution_count": 80,
   "id": "TpbbIKkQ7PGF",
   "metadata": {
    "id": "TpbbIKkQ7PGF"
   },
   "outputs": [],
   "source": [
    "# Set batch size for data loaders\n",
    "batch_size = 32  # You can change this to your preferred batch size\n",
    "\n",
    "# Split indices for train, validation, and test sets\n",
    "train_idx = split_idx[\"train\"]\n",
    "valid_idx = split_idx[\"valid\"]\n",
    "test_idx = split_idx[\"test\"]"
   ]
  },
  {
   "cell_type": "code",
   "execution_count": 81,
   "id": "843160cc",
   "metadata": {
    "id": "843160cc"
   },
   "outputs": [],
   "source": [
    "from torch_scatter import scatter_mean,scatter_sum\n",
    "\n",
    "def mad_gap(x, edge_index):\n",
    "\n",
    "    #eq 1-2 masked cos similarity\n",
    "    with torch.no_grad():\n",
    "        dij = torch.cosine_similarity(x[edge_index[0]], x[edge_index[1]], dim=1, eps=1e-8)\n",
    "        dij = 1 - dij\n",
    "        # M^{tgt} = A\n",
    "        d_bar = scatter_sum(dij, edge_index[1])\n",
    "\n",
    "    return d_bar.cpu()"
   ]
  },
  {
   "cell_type": "markdown",
   "id": "_ivdwTb0O0E4",
   "metadata": {
    "id": "_ivdwTb0O0E4"
   },
   "source": [
    "# Model"
   ]
  },
  {
   "cell_type": "code",
   "execution_count": 82,
   "id": "142c8304",
   "metadata": {
    "id": "142c8304"
   },
   "outputs": [],
   "source": [
    "class GCN(torch.nn.Module):\n",
    "    def __init__(self, input_dim, hidden_dim, output_dim, num_layers,\n",
    "                 dropout, return_embeds=False):\n",
    "\n",
    "        super(GCN, self).__init__()\n",
    "\n",
    "        # A list of GCNConv layers\n",
    "        self.convs = [\n",
    "            GCNConv(input_dim, hidden_dim),\n",
    "        ]\n",
    "\n",
    "        for _ in range(num_layers-1):\n",
    "            self.convs.append(GCNConv(hidden_dim, hidden_dim))\n",
    "\n",
    "        self.last_layer = GCNConv(hidden_dim, output_dim)\n",
    "\n",
    "\n",
    "        # A list of 1D batch normalization layers\n",
    "        self.bns = []\n",
    "        for _ in range(num_layers):\n",
    "            self.bns.append(torch.nn.BatchNorm1d(hidden_dim))\n",
    "\n",
    "        self.convs = torch.nn.ModuleList(self.convs)\n",
    "        self.bns = torch.nn.ModuleList(self.bns)\n",
    "\n",
    "        # The log softmax layer\n",
    "        self.softmax = torch.nn.LogSoftmax()\n",
    "\n",
    "\n",
    "        # Probability of an element getting zeroed\n",
    "        self.dropout = dropout\n",
    "\n",
    "        # Skip classification layer and return node embeddings\n",
    "        self.return_embeds = return_embeds\n",
    "\n",
    "    def reset_parameters(self):\n",
    "        for conv in self.convs:\n",
    "            conv.reset_parameters()\n",
    "        for bn in self.bns:\n",
    "            bn.reset_parameters()\n",
    "\n",
    "    def forward(self, x, adj_t):\n",
    "\n",
    "        for i in range(len(self.convs)):\n",
    "            x = self.convs[i](x, adj_t)\n",
    "            x = self.bns[i](x)\n",
    "            x = F.relu(x)\n",
    "            x = F.dropout(x, p=self.dropout, training=self.training)\n",
    "\n",
    "        x = self.last_layer(x, adj_t)\n",
    "\n",
    "        if not self.return_embeds:\n",
    "            x = self.softmax(x)\n",
    "\n",
    "        return x\n"
   ]
  },
  {
   "cell_type": "code",
   "execution_count": 83,
   "id": "YCwrDcSNO2yL",
   "metadata": {
    "id": "YCwrDcSNO2yL"
   },
   "outputs": [],
   "source": [
    "import torch\n",
    "import torch.nn.functional as F\n",
    "from torch_geometric.nn import GATConv\n",
    "\n",
    "class GAT(torch.nn.Module):\n",
    "    def __init__(self, input_dim, hidden_dim, output_dim, num_layers, dropout, heads, return_embeds=False):\n",
    "        super(GAT, self).__init__()\n",
    "\n",
    "        self.convs = torch.nn.ModuleList()\n",
    "        self.convs.append(GATConv(input_dim, hidden_dim, heads=heads))\n",
    "        for _ in range(num_layers - 1):\n",
    "            self.convs.append(GATConv(hidden_dim * heads, hidden_dim, heads=heads))  # 注意头数的设置\n",
    "\n",
    "        self.last_layer = GATConv(hidden_dim * heads, output_dim, heads=1)  # 输出层的头数通常为1\n",
    "\n",
    "        self.bns = torch.nn.ModuleList([torch.nn.BatchNorm1d(hidden_dim * heads) for _ in range(num_layers)])\n",
    "\n",
    "        self.softmax = torch.nn.LogSoftmax(dim=1)\n",
    "        self.dropout = dropout\n",
    "        self.return_embeds = return_embeds\n",
    "\n",
    "    def reset_parameters(self):\n",
    "        for conv in self.convs:\n",
    "            conv.reset_parameters()\n",
    "        for bn in self.bns:\n",
    "            bn.reset_parameters()\n",
    "\n",
    "    def forward(self, x, edge_index):\n",
    "        for i, conv in enumerate(self.convs):\n",
    "            x = conv(x, edge_index)\n",
    "            x = self.bns[i](x)\n",
    "            x = F.relu(x)\n",
    "            x = F.dropout(x, p=self.dropout, training=self.training)\n",
    "\n",
    "        x = self.last_layer(x, edge_index)\n",
    "\n",
    "        if not self.return_embeds:\n",
    "            x = self.softmax(x)\n",
    "\n",
    "        return x\n"
   ]
  },
  {
   "cell_type": "code",
   "execution_count": 84,
   "id": "5oZhgGiz2OJ7",
   "metadata": {
    "id": "5oZhgGiz2OJ7"
   },
   "outputs": [],
   "source": [
    "import torch\n",
    "import torch.nn as nn\n",
    "import torch.nn.functional as F\n",
    "from torch_geometric.nn import GCNConv\n",
    "import math\n",
    "\n",
    "class GCNII(nn.Module):\n",
    "    def __init__(self, input_dim, hidden_dim, output_dim, num_layers, dropout, alpha, lamda, return_embeds=True):\n",
    "        super(GCNII, self).__init__()\n",
    "\n",
    "        self.alpha = alpha\n",
    "        self.lamda = lamda\n",
    "        self.num_layers = num_layers\n",
    "\n",
    "        # Graph Convolution layers\n",
    "        self.convs = nn.ModuleList([GCNConv(input_dim, hidden_dim)] + [GCNConv(hidden_dim, hidden_dim) for _ in range(num_layers - 1)])\n",
    "\n",
    "        # Batch normalization layers\n",
    "        self.bns = nn.ModuleList([nn.BatchNorm1d(hidden_dim) for _ in range(num_layers)])\n",
    "\n",
    "        # 1D Convolution layers\n",
    "        self.conv1d_layers = nn.ModuleList([nn.Conv1d(in_channels=hidden_dim, out_channels=hidden_dim, kernel_size=1) for _ in range(num_layers)])\n",
    "\n",
    "        # Last Graph Convolution layer\n",
    "        self.last_layer = GCNConv(hidden_dim, output_dim)\n",
    "\n",
    "        # LogSoftmax layer\n",
    "        self.softmax = nn.LogSoftmax(dim=1)\n",
    "\n",
    "        # Dropout rate\n",
    "        self.dropout = dropout\n",
    "\n",
    "        # Whether to return embeddings\n",
    "        self.return_embeds = return_embeds\n",
    "\n",
    "    def reset_parameters(self):\n",
    "        for conv in self.convs:\n",
    "            conv.reset_parameters()\n",
    "        for bn in self.bns:\n",
    "            bn.reset_parameters()\n",
    "        for conv1d in self.conv1d_layers:\n",
    "            conv1d.reset_parameters()\n",
    "\n",
    "    def forward(self, x, adj_t):\n",
    "        h0 = x\n",
    "        h_prev = x\n",
    "        for i, (conv, conv1d) in enumerate(zip(self.convs, self.conv1d_layers)):\n",
    "            h = conv(x, adj_t)\n",
    "            h = self.bns[i](h)\n",
    "            h = F.relu(h)\n",
    "            h = F.dropout(h, p=self.dropout, training=self.training)\n",
    "\n",
    "            # Apply 1D convolution\n",
    "            h = h.unsqueeze(2)\n",
    "            h = conv1d(h).squeeze(2)\n",
    "\n",
    "            theta = math.log(self.lamda / (i + 1) + 1)\n",
    "            r = (1 - self.alpha) * h + self.alpha * h0\n",
    "            x = theta * r + (1 - theta) * h\n",
    "            #x = r\n",
    "            # Residual connection from the previous layer\n",
    "            x = x + h_prev\n",
    "            h_prev = x\n",
    "\n",
    "        x = self.last_layer(x, adj_t)\n",
    "\n",
    "        if not self.return_embeds:\n",
    "            x = self.softmax(x)\n",
    "\n",
    "        return x\n"
   ]
  },
  {
   "cell_type": "code",
   "execution_count": 85,
   "id": "vWEdn9d3OAKy",
   "metadata": {
    "id": "vWEdn9d3OAKy"
   },
   "outputs": [],
   "source": [
    "import torch\n",
    "import torch.nn.functional as F\n",
    "from torch_geometric.nn import SAGEConv\n",
    "\n",
    "class GraphSAGE(torch.nn.Module):\n",
    "    def __init__(self, input_dim, hidden_dim, output_dim, num_layers, dropout, return_embeds=False):\n",
    "        super(GraphSAGE, self).__init__()\n",
    "\n",
    "        self.convs = torch.nn.ModuleList()\n",
    "        self.convs.append(SAGEConv(input_dim, hidden_dim))\n",
    "        for _ in range(num_layers - 1):\n",
    "            self.convs.append(SAGEConv(hidden_dim, hidden_dim))\n",
    "\n",
    "        self.last_layer = SAGEConv(hidden_dim, output_dim)\n",
    "\n",
    "        self.bns = torch.nn.ModuleList([torch.nn.BatchNorm1d(hidden_dim) for _ in range(num_layers)])\n",
    "\n",
    "        self.softmax = torch.nn.LogSoftmax(dim=1)\n",
    "        self.dropout = dropout\n",
    "        self.return_embeds = return_embeds\n",
    "\n",
    "    def reset_parameters(self):\n",
    "        for conv in self.convs:\n",
    "            conv.reset_parameters()\n",
    "        for bn in self.bns:\n",
    "            bn.reset_parameters()\n",
    "\n",
    "    def forward(self, x, edge_index):\n",
    "        for i, conv in enumerate(self.convs):\n",
    "            x = conv(x, edge_index)\n",
    "            x = self.bns[i](x)\n",
    "            x = F.relu(x)\n",
    "            x = F.dropout(x, p=self.dropout, training=self.training)\n",
    "\n",
    "        x = self.last_layer(x, edge_index)\n",
    "\n",
    "        if not self.return_embeds:\n",
    "            x = self.softmax(x)\n",
    "\n",
    "        return x\n"
   ]
  },
  {
   "cell_type": "code",
   "execution_count": 86,
   "id": "Jmgv6YzJODY-",
   "metadata": {
    "id": "Jmgv6YzJODY-"
   },
   "outputs": [],
   "source": [
    "import torch\n",
    "import torch.nn.functional as F\n",
    "from torch_geometric.nn import GATConv\n",
    "\n",
    "class GAT(torch.nn.Module):\n",
    "    def __init__(self, input_dim, hidden_dim, output_dim, num_layers, dropout, heads, return_embeds=False):\n",
    "        super(GAT, self).__init__()\n",
    "\n",
    "        self.convs = torch.nn.ModuleList()\n",
    "        self.convs.append(GATConv(input_dim, hidden_dim, heads=heads))\n",
    "        for _ in range(num_layers - 1):\n",
    "            self.convs.append(GATConv(hidden_dim * heads, hidden_dim, heads=heads))  # 注意头数的设置\n",
    "\n",
    "        self.last_layer = GATConv(hidden_dim * heads, output_dim, heads=1)  # 输出层的头数通常为1\n",
    "\n",
    "        self.bns = torch.nn.ModuleList([torch.nn.BatchNorm1d(hidden_dim * heads) for _ in range(num_layers)])\n",
    "\n",
    "        self.softmax = torch.nn.LogSoftmax(dim=1)\n",
    "        self.dropout = dropout\n",
    "        self.return_embeds = return_embeds\n",
    "\n",
    "    def reset_parameters(self):\n",
    "        for conv in self.convs:\n",
    "            conv.reset_parameters()\n",
    "        for bn in self.bns:\n",
    "            bn.reset_parameters()\n",
    "\n",
    "    def forward(self, x, edge_index):\n",
    "        for i, conv in enumerate(self.convs):\n",
    "            x = conv(x, edge_index)\n",
    "            x = self.bns[i](x)\n",
    "            x = F.relu(x)\n",
    "            x = F.dropout(x, p=self.dropout, training=self.training)\n",
    "\n",
    "        x = self.last_layer(x, edge_index)\n",
    "\n",
    "        if not self.return_embeds:\n",
    "            x = self.softmax(x)\n",
    "\n",
    "        return x\n"
   ]
  },
  {
   "cell_type": "code",
   "execution_count": 87,
   "id": "appKw59JOGzn",
   "metadata": {
    "id": "appKw59JOGzn"
   },
   "outputs": [],
   "source": [
    "import torch\n",
    "import torch.nn as nn\n",
    "import torch.nn.functional as F\n",
    "from torch_geometric.nn import GCNConv\n",
    "\n",
    "class GCNCNN(torch.nn.Module):\n",
    "    def __init__(self, input_dim, hidden_dim, output_dim, num_layers, dropout, return_embeds=False):\n",
    "        super(GCNCNN, self).__init__()\n",
    "\n",
    "        # GCNConv layers\n",
    "        self.convs = nn.ModuleList([GCNConv(input_dim, hidden_dim)] + [GCNConv(hidden_dim, hidden_dim) for _ in range(num_layers - 1)])\n",
    "\n",
    "        # 1D Convolution layers\n",
    "        self.conv1d_layers = nn.ModuleList([nn.Conv1d(hidden_dim, hidden_dim, kernel_size=1) for _ in range(num_layers)])\n",
    "\n",
    "        # Batch normalization layers\n",
    "        self.bns = nn.ModuleList([nn.BatchNorm1d(hidden_dim) for _ in range(num_layers)])\n",
    "\n",
    "        # Last GCNConv layer\n",
    "        self.last_layer = GCNConv(hidden_dim, output_dim)\n",
    "\n",
    "        # Other components\n",
    "        self.softmax = nn.LogSoftmax(dim=1)\n",
    "        self.dropout = dropout\n",
    "        self.return_embeds = return_embeds\n",
    "\n",
    "    def reset_parameters(self):\n",
    "        for conv in self.convs:\n",
    "            conv.reset_parameters()\n",
    "        for conv1d in self.conv1d_layers:\n",
    "            conv1d.reset_parameters()\n",
    "        for bn in self.bns:\n",
    "            bn.reset_parameters()\n",
    "\n",
    "    def forward(self, x, adj_t):\n",
    "        for i, conv in enumerate(self.convs):\n",
    "            x = conv(x, adj_t)\n",
    "            x = self.bns[i](x)\n",
    "            x = F.relu(x)\n",
    "            x = F.dropout(x, p=self.dropout, training=self.training)\n",
    "\n",
    "            # Reshape x for 1D convolution and apply 1D convolution\n",
    "            x_reshaped = x.unsqueeze(-1)  # Add an extra dimension for 1D convolution\n",
    "            x = self.conv1d_layers[i](x_reshaped).squeeze(-1)  # Remove the extra dimension after convolution\n",
    "\n",
    "        x = self.last_layer(x, adj_t)\n",
    "\n",
    "        if not self.return_embeds:\n",
    "            x = self.softmax(x)\n",
    "\n",
    "        return x\n"
   ]
  },
  {
   "cell_type": "markdown",
   "id": "dmAVoEB9OM3p",
   "metadata": {
    "id": "dmAVoEB9OM3p"
   },
   "source": [
    "# Select you model"
   ]
  },
  {
   "cell_type": "code",
   "execution_count": 88,
   "id": "39c0ca8e",
   "metadata": {
    "id": "39c0ca8e"
   },
   "outputs": [],
   "source": [
    "def train(model, data, train_idx, optimizer, loss_fn):\n",
    "    model.train()\n",
    "    loss = 0\n",
    "\n",
    "    optimizer.zero_grad()  # Clear gradients.\n",
    "    out = model(data.x, data.adj_t)  # Perform a single forward pass.\n",
    "    madgap = mad_gap(out, data.edge_index)\n",
    "    loss = loss_fn(out[train_idx], sub_graph.y[train_idx].reshape(-1))\n",
    "\n",
    "    loss.backward()\n",
    "    optimizer.step()\n",
    "\n",
    "    return loss.item(), madgap"
   ]
  },
  {
   "cell_type": "code",
   "execution_count": 89,
   "id": "382bd78f",
   "metadata": {
    "id": "382bd78f"
   },
   "outputs": [],
   "source": [
    "# Test function here\n",
    "@torch.no_grad()\n",
    "def test(model, data, split_idx, evaluator, save_model_results=False):\n",
    "    model.eval()\n",
    "\n",
    "    # The output of model on all data\n",
    "    out = model(data.x, data.adj_t)\n",
    "\n",
    "    y_pred = out.argmax(dim=-1, keepdim=True)\n",
    "\n",
    "    train_acc = evaluator.eval({\n",
    "        'y_true': data.y[split_idx['train']],\n",
    "        'y_pred': y_pred[split_idx['train']],\n",
    "    })['acc']\n",
    "    valid_acc = evaluator.eval({\n",
    "        'y_true': data.y[split_idx['valid']],\n",
    "        'y_pred': y_pred[split_idx['valid']],\n",
    "    })['acc']\n",
    "    test_acc = evaluator.eval({\n",
    "        'y_true': data.y[split_idx['test']],\n",
    "        'y_pred': y_pred[split_idx['test']],\n",
    "    })['acc']\n",
    "\n",
    "    if save_model_results:\n",
    "      print (\"Saving Model Predictions\")\n",
    "\n",
    "      data = {}\n",
    "      data['y_pred'] = y_pred.view(-1).cpu().detach().numpy()\n",
    "\n",
    "      df = pd.DataFrame(data=data)\n",
    "      # Save locally as csv\n",
    "      df.to_csv('ogbn-arxiv_node.csv', sep=',', index=False)\n",
    "\n",
    "\n",
    "    return train_acc, valid_acc, test_acc"
   ]
  },
  {
   "cell_type": "code",
   "execution_count": 90,
   "id": "1fc15bcd",
   "metadata": {
    "id": "1fc15bcd"
   },
   "outputs": [],
   "source": [
    "args = {\n",
    "    'device': device,\n",
    "    'num_layers': 4,\n",
    "    'hidden_dim': 128,\n",
    "    'dropout': 0.5,\n",
    "    'lr': 0.001,\n",
    "    'epochs': 200,\n",
    "    'theta' : 0.2,\n",
    "    'lamda' : 0.2,\n",
    "}"
   ]
  },
  {
   "cell_type": "code",
   "execution_count": 91,
   "id": "OCCuSiTN5XUL",
   "metadata": {
    "id": "OCCuSiTN5XUL"
   },
   "outputs": [],
   "source": [
    "#torch.cuda.empty_cache()"
   ]
  },
  {
   "cell_type": "code",
   "execution_count": 19,
   "id": "gGyBy48l-PzR",
   "metadata": {
    "colab": {
     "base_uri": "https://localhost:8080/"
    },
    "id": "gGyBy48l-PzR",
    "outputId": "f88f631f-3b85-47ad-ba7f-ed68bae10929"
   },
   "outputs": [
    {
     "data": {
      "text/plain": [
       "40"
      ]
     },
     "execution_count": 19,
     "metadata": {},
     "output_type": "execute_result"
    }
   ],
   "source": [
    "dataset.num_classes"
   ]
  },
  {
   "cell_type": "code",
   "execution_count": 92,
   "id": "ee98e433",
   "metadata": {
    "id": "ee98e433"
   },
   "outputs": [],
   "source": [
    "model = GCN(data.num_features, args['hidden_dim'],\n",
    "            dataset.num_classes, args['num_layers'],\n",
    "            args['dropout']).to(device)\n",
    "evaluator = Evaluator(name='ogbn-products')"
   ]
  },
  {
   "cell_type": "code",
   "execution_count": 63,
   "id": "RjoWrAF92RPR",
   "metadata": {
    "id": "RjoWrAF92RPR"
   },
   "outputs": [],
   "source": [
    "model = GCNII(data.num_features, args['hidden_dim'],\n",
    "            dataset.num_classes, args['num_layers'],\n",
    "            args['dropout'], args['theta'], args['lamda']).to(device)\n",
    "evaluator = Evaluator(name='ogbn-products')"
   ]
  },
  {
   "cell_type": "code",
   "execution_count": 48,
   "id": "nagM-AHhOUHp",
   "metadata": {
    "id": "nagM-AHhOUHp"
   },
   "outputs": [],
   "source": [
    "model = GraphSAGE(sub_graph.num_features, args['hidden_dim'],\n",
    "            dataset.num_classes, args['num_layers'],\n",
    "            args['dropout']).to(device)\n",
    "evaluator = Evaluator(name='ogbn-products')"
   ]
  },
  {
   "cell_type": "code",
   "execution_count": 59,
   "id": "uWWY-yfyO95L",
   "metadata": {
    "id": "uWWY-yfyO95L"
   },
   "outputs": [],
   "source": [
    "model = GAT(sub_graph.num_features, args['hidden_dim'],\n",
    "            dataset.num_classes, args['num_layers'],\n",
    "            args['dropout'], 2\n",
    "            ).to(device)\n",
    "evaluator = Evaluator(name='ogbn-products')"
   ]
  },
  {
   "cell_type": "code",
   "execution_count": 93,
   "id": "7ab4017c",
   "metadata": {
    "colab": {
     "base_uri": "https://localhost:8080/"
    },
    "id": "7ab4017c",
    "outputId": "c6907811-4195-4941-fb4b-617a69189af2"
   },
   "outputs": [
    {
     "name": "stdout",
     "output_type": "stream",
     "text": [
      "Number of parameters : 72232\n"
     ]
    }
   ],
   "source": [
    "num_params = sum(p.numel() for p in model.parameters())\n",
    "print(f\"Number of parameters : {num_params}\")"
   ]
  },
  {
   "cell_type": "markdown",
   "id": "Mr5Jqh3UYLsR",
   "metadata": {
    "id": "Mr5Jqh3UYLsR"
   },
   "source": [
    "# Train and Test"
   ]
  },
  {
   "cell_type": "code",
   "execution_count": 94,
   "id": "5ac18d17",
   "metadata": {
    "colab": {
     "base_uri": "https://localhost:8080/"
    },
    "id": "5ac18d17",
    "outputId": "23892477-aad0-4d3e-e8e7-711df5f76f20"
   },
   "outputs": [
    {
     "name": "stderr",
     "output_type": "stream",
     "text": [
      "/usr/local/lib/python3.10/dist-packages/torch/nn/modules/module.py:1518: UserWarning: Implicit dimension choice for log_softmax has been deprecated. Change the call to include dim=X as an argument.\n",
      "  return self._call_impl(*args, **kwargs)\n"
     ]
    },
    {
     "name": "stdout",
     "output_type": "stream",
     "text": [
      "Epoch: 01, Mad: 0.1556, Loss: 4.4675, Train: 4.11%, Valid: 4.62% Test: 3.89%\n",
      "Epoch: 02, Mad: 0.1588, Loss: 4.3007, Train: 4.18%, Valid: 5.11% Test: 3.95%\n",
      "Epoch: 03, Mad: 0.1624, Loss: 4.1519, Train: 5.10%, Valid: 5.69% Test: 5.13%\n",
      "Epoch: 04, Mad: 0.1634, Loss: 4.0249, Train: 7.85%, Valid: 9.11% Test: 8.04%\n",
      "Epoch: 05, Mad: 0.1557, Loss: 3.9036, Train: 12.46%, Valid: 13.33% Test: 12.79%\n",
      "Epoch: 06, Mad: 0.1442, Loss: 3.7875, Train: 18.69%, Valid: 19.96% Test: 18.81%\n",
      "Epoch: 07, Mad: 0.1329, Loss: 3.6815, Train: 24.35%, Valid: 24.56% Test: 24.40%\n",
      "Epoch: 08, Mad: 0.1263, Loss: 3.5815, Train: 27.92%, Valid: 28.49% Test: 28.06%\n",
      "Epoch: 09, Mad: 0.1178, Loss: 3.4860, Train: 29.97%, Valid: 30.58% Test: 30.25%\n",
      "Epoch: 10, Mad: 0.1102, Loss: 3.4027, Train: 30.71%, Valid: 31.04% Test: 31.08%\n",
      "Epoch: 11, Mad: 0.1051, Loss: 3.3319, Train: 30.88%, Valid: 31.00% Test: 31.34%\n",
      "Epoch: 12, Mad: 0.1004, Loss: 3.2509, Train: 30.82%, Valid: 31.07% Test: 31.31%\n",
      "Epoch: 13, Mad: 0.0951, Loss: 3.1988, Train: 30.60%, Valid: 30.67% Test: 31.09%\n",
      "Epoch: 14, Mad: 0.0912, Loss: 3.1371, Train: 30.28%, Valid: 30.64% Test: 30.71%\n",
      "Epoch: 15, Mad: 0.0880, Loss: 3.0879, Train: 30.15%, Valid: 30.49% Test: 30.51%\n",
      "Epoch: 16, Mad: 0.0839, Loss: 3.0445, Train: 30.15%, Valid: 30.42% Test: 30.59%\n",
      "Epoch: 17, Mad: 0.0806, Loss: 2.9966, Train: 30.24%, Valid: 30.53% Test: 30.72%\n",
      "Epoch: 18, Mad: 0.0772, Loss: 2.9604, Train: 30.46%, Valid: 30.47% Test: 30.90%\n",
      "Epoch: 19, Mad: 0.0744, Loss: 2.9249, Train: 30.74%, Valid: 30.71% Test: 31.13%\n",
      "Epoch: 20, Mad: 0.0712, Loss: 2.8933, Train: 31.04%, Valid: 31.07% Test: 31.46%\n",
      "Epoch: 21, Mad: 0.0694, Loss: 2.8670, Train: 31.38%, Valid: 31.51% Test: 31.91%\n",
      "Epoch: 22, Mad: 0.0670, Loss: 2.8428, Train: 31.81%, Valid: 31.91% Test: 32.30%\n",
      "Epoch: 23, Mad: 0.0650, Loss: 2.8113, Train: 32.32%, Valid: 32.56% Test: 32.90%\n",
      "Epoch: 24, Mad: 0.0632, Loss: 2.7804, Train: 32.82%, Valid: 32.98% Test: 33.33%\n",
      "Epoch: 25, Mad: 0.0614, Loss: 2.7695, Train: 33.30%, Valid: 33.49% Test: 33.81%\n",
      "Epoch: 26, Mad: 0.0603, Loss: 2.7523, Train: 33.79%, Valid: 33.96% Test: 34.50%\n",
      "Epoch: 27, Mad: 0.0588, Loss: 2.7309, Train: 34.33%, Valid: 34.56% Test: 35.11%\n",
      "Epoch: 28, Mad: 0.0577, Loss: 2.7134, Train: 34.88%, Valid: 35.07% Test: 35.74%\n",
      "Epoch: 29, Mad: 0.0563, Loss: 2.6934, Train: 35.42%, Valid: 35.33% Test: 36.13%\n",
      "Epoch: 30, Mad: 0.0551, Loss: 2.6790, Train: 35.96%, Valid: 35.76% Test: 36.67%\n",
      "Epoch: 31, Mad: 0.0547, Loss: 2.6643, Train: 36.47%, Valid: 36.04% Test: 37.15%\n",
      "Epoch: 32, Mad: 0.0538, Loss: 2.6515, Train: 36.92%, Valid: 36.38% Test: 37.59%\n",
      "Epoch: 33, Mad: 0.0530, Loss: 2.6263, Train: 37.34%, Valid: 36.87% Test: 37.87%\n",
      "Epoch: 34, Mad: 0.0525, Loss: 2.6141, Train: 37.71%, Valid: 37.42% Test: 38.28%\n",
      "Epoch: 35, Mad: 0.0519, Loss: 2.5992, Train: 38.16%, Valid: 38.04% Test: 38.73%\n",
      "Epoch: 36, Mad: 0.0512, Loss: 2.5923, Train: 38.52%, Valid: 38.38% Test: 39.14%\n",
      "Epoch: 37, Mad: 0.0510, Loss: 2.5818, Train: 38.89%, Valid: 38.76% Test: 39.47%\n",
      "Epoch: 38, Mad: 0.0506, Loss: 2.5720, Train: 39.29%, Valid: 39.07% Test: 39.70%\n",
      "Epoch: 39, Mad: 0.0501, Loss: 2.5574, Train: 39.73%, Valid: 39.36% Test: 40.12%\n",
      "Epoch: 40, Mad: 0.0501, Loss: 2.5462, Train: 40.06%, Valid: 39.76% Test: 40.41%\n",
      "Epoch: 41, Mad: 0.0497, Loss: 2.5361, Train: 40.39%, Valid: 40.00% Test: 40.80%\n",
      "Epoch: 42, Mad: 0.0491, Loss: 2.5252, Train: 40.69%, Valid: 40.36% Test: 41.01%\n",
      "Epoch: 43, Mad: 0.0491, Loss: 2.5134, Train: 41.00%, Valid: 40.76% Test: 41.32%\n",
      "Epoch: 44, Mad: 0.0486, Loss: 2.5079, Train: 41.27%, Valid: 40.96% Test: 41.71%\n",
      "Epoch: 45, Mad: 0.0483, Loss: 2.4909, Train: 41.54%, Valid: 41.09% Test: 42.02%\n",
      "Epoch: 46, Mad: 0.0480, Loss: 2.4933, Train: 41.81%, Valid: 41.29% Test: 42.27%\n",
      "Epoch: 47, Mad: 0.0483, Loss: 2.4781, Train: 42.05%, Valid: 41.44% Test: 42.46%\n",
      "Epoch: 48, Mad: 0.0481, Loss: 2.4687, Train: 42.31%, Valid: 41.71% Test: 42.73%\n",
      "Epoch: 49, Mad: 0.0477, Loss: 2.4641, Train: 42.59%, Valid: 41.98% Test: 43.06%\n",
      "Epoch: 50, Mad: 0.0478, Loss: 2.4531, Train: 42.87%, Valid: 42.40% Test: 43.36%\n",
      "Epoch: 51, Mad: 0.0479, Loss: 2.4473, Train: 43.12%, Valid: 42.69% Test: 43.66%\n",
      "Epoch: 52, Mad: 0.0474, Loss: 2.4352, Train: 43.32%, Valid: 42.84% Test: 43.85%\n",
      "Epoch: 53, Mad: 0.0473, Loss: 2.4307, Train: 43.51%, Valid: 42.91% Test: 44.03%\n",
      "Epoch: 54, Mad: 0.0473, Loss: 2.4209, Train: 43.71%, Valid: 43.27% Test: 44.33%\n",
      "Epoch: 55, Mad: 0.0470, Loss: 2.4153, Train: 43.88%, Valid: 43.47% Test: 44.53%\n",
      "Epoch: 56, Mad: 0.0469, Loss: 2.4087, Train: 44.06%, Valid: 43.62% Test: 44.66%\n",
      "Epoch: 57, Mad: 0.0470, Loss: 2.4041, Train: 44.25%, Valid: 43.87% Test: 44.79%\n",
      "Epoch: 58, Mad: 0.0470, Loss: 2.4006, Train: 44.48%, Valid: 44.00% Test: 44.99%\n",
      "Epoch: 59, Mad: 0.0470, Loss: 2.3876, Train: 44.66%, Valid: 44.27% Test: 45.15%\n",
      "Epoch: 60, Mad: 0.0471, Loss: 2.3820, Train: 44.84%, Valid: 44.60% Test: 45.29%\n",
      "Epoch: 61, Mad: 0.0471, Loss: 2.3768, Train: 44.98%, Valid: 44.89% Test: 45.44%\n",
      "Epoch: 62, Mad: 0.0473, Loss: 2.3749, Train: 45.11%, Valid: 44.87% Test: 45.57%\n",
      "Epoch: 63, Mad: 0.0473, Loss: 2.3633, Train: 45.25%, Valid: 44.93% Test: 45.68%\n",
      "Epoch: 64, Mad: 0.0472, Loss: 2.3625, Train: 45.39%, Valid: 45.11% Test: 45.79%\n",
      "Epoch: 65, Mad: 0.0472, Loss: 2.3412, Train: 45.49%, Valid: 45.16% Test: 45.93%\n",
      "Epoch: 66, Mad: 0.0474, Loss: 2.3449, Train: 45.59%, Valid: 45.18% Test: 46.13%\n",
      "Epoch: 67, Mad: 0.0473, Loss: 2.3419, Train: 45.68%, Valid: 45.29% Test: 46.11%\n",
      "Epoch: 68, Mad: 0.0473, Loss: 2.3381, Train: 45.79%, Valid: 45.31% Test: 46.14%\n",
      "Epoch: 69, Mad: 0.0477, Loss: 2.3303, Train: 45.88%, Valid: 45.29% Test: 46.14%\n",
      "Epoch: 70, Mad: 0.0477, Loss: 2.3261, Train: 45.98%, Valid: 45.24% Test: 46.22%\n",
      "Epoch: 71, Mad: 0.0477, Loss: 2.3203, Train: 46.12%, Valid: 45.33% Test: 46.30%\n",
      "Epoch: 72, Mad: 0.0477, Loss: 2.3106, Train: 46.17%, Valid: 45.53% Test: 46.39%\n",
      "Epoch: 73, Mad: 0.0477, Loss: 2.3024, Train: 46.25%, Valid: 45.56% Test: 46.57%\n",
      "Epoch: 74, Mad: 0.0480, Loss: 2.3022, Train: 46.33%, Valid: 45.71% Test: 46.53%\n",
      "Epoch: 75, Mad: 0.0480, Loss: 2.2992, Train: 46.43%, Valid: 45.80% Test: 46.63%\n",
      "Epoch: 76, Mad: 0.0482, Loss: 2.2958, Train: 46.54%, Valid: 45.89% Test: 46.71%\n",
      "Epoch: 77, Mad: 0.0481, Loss: 2.2923, Train: 46.62%, Valid: 46.04% Test: 46.92%\n",
      "Epoch: 78, Mad: 0.0483, Loss: 2.2829, Train: 46.69%, Valid: 46.09% Test: 47.07%\n",
      "Epoch: 79, Mad: 0.0481, Loss: 2.2785, Train: 46.82%, Valid: 46.11% Test: 47.21%\n",
      "Epoch: 80, Mad: 0.0482, Loss: 2.2760, Train: 46.92%, Valid: 46.09% Test: 47.37%\n",
      "Epoch: 81, Mad: 0.0486, Loss: 2.2688, Train: 47.00%, Valid: 46.16% Test: 47.48%\n",
      "Epoch: 82, Mad: 0.0488, Loss: 2.2657, Train: 47.14%, Valid: 46.24% Test: 47.52%\n",
      "Epoch: 83, Mad: 0.0481, Loss: 2.2577, Train: 47.22%, Valid: 46.36% Test: 47.63%\n",
      "Epoch: 84, Mad: 0.0486, Loss: 2.2568, Train: 47.29%, Valid: 46.47% Test: 47.61%\n",
      "Epoch: 85, Mad: 0.0487, Loss: 2.2562, Train: 47.37%, Valid: 46.53% Test: 47.70%\n",
      "Epoch: 86, Mad: 0.0490, Loss: 2.2468, Train: 47.45%, Valid: 46.67% Test: 47.80%\n",
      "Epoch: 87, Mad: 0.0490, Loss: 2.2468, Train: 47.53%, Valid: 46.64% Test: 47.88%\n",
      "Epoch: 88, Mad: 0.0487, Loss: 2.2437, Train: 47.60%, Valid: 46.80% Test: 48.00%\n",
      "Epoch: 89, Mad: 0.0491, Loss: 2.2337, Train: 47.67%, Valid: 46.91% Test: 48.06%\n",
      "Epoch: 90, Mad: 0.0490, Loss: 2.2365, Train: 47.77%, Valid: 46.98% Test: 48.10%\n",
      "Epoch: 91, Mad: 0.0490, Loss: 2.2273, Train: 47.86%, Valid: 47.07% Test: 48.13%\n",
      "Epoch: 92, Mad: 0.0492, Loss: 2.2310, Train: 47.94%, Valid: 47.20% Test: 48.16%\n",
      "Epoch: 93, Mad: 0.0494, Loss: 2.2245, Train: 48.06%, Valid: 47.33% Test: 48.27%\n",
      "Epoch: 94, Mad: 0.0493, Loss: 2.2177, Train: 48.17%, Valid: 47.38% Test: 48.39%\n",
      "Epoch: 95, Mad: 0.0495, Loss: 2.2197, Train: 48.28%, Valid: 47.47% Test: 48.47%\n",
      "Epoch: 96, Mad: 0.0494, Loss: 2.2107, Train: 48.36%, Valid: 47.73% Test: 48.58%\n",
      "Epoch: 97, Mad: 0.0498, Loss: 2.2087, Train: 48.43%, Valid: 47.93% Test: 48.54%\n",
      "Epoch: 98, Mad: 0.0495, Loss: 2.2034, Train: 48.49%, Valid: 48.02% Test: 48.62%\n",
      "Epoch: 99, Mad: 0.0494, Loss: 2.2026, Train: 48.57%, Valid: 48.11% Test: 48.69%\n",
      "Epoch: 100, Mad: 0.0495, Loss: 2.1967, Train: 48.66%, Valid: 48.20% Test: 48.69%\n",
      "Epoch: 101, Mad: 0.0499, Loss: 2.1931, Train: 48.76%, Valid: 48.31% Test: 48.75%\n",
      "Epoch: 102, Mad: 0.0501, Loss: 2.1899, Train: 48.84%, Valid: 48.40% Test: 48.90%\n",
      "Epoch: 103, Mad: 0.0499, Loss: 2.1876, Train: 48.96%, Valid: 48.44% Test: 49.03%\n",
      "Epoch: 104, Mad: 0.0499, Loss: 2.1803, Train: 49.05%, Valid: 48.49% Test: 49.13%\n",
      "Epoch: 105, Mad: 0.0501, Loss: 2.1780, Train: 49.13%, Valid: 48.53% Test: 49.17%\n",
      "Epoch: 106, Mad: 0.0499, Loss: 2.1743, Train: 49.20%, Valid: 48.58% Test: 49.33%\n",
      "Epoch: 107, Mad: 0.0500, Loss: 2.1755, Train: 49.28%, Valid: 48.73% Test: 49.39%\n",
      "Epoch: 108, Mad: 0.0504, Loss: 2.1723, Train: 49.34%, Valid: 48.80% Test: 49.46%\n",
      "Epoch: 109, Mad: 0.0504, Loss: 2.1674, Train: 49.42%, Valid: 48.89% Test: 49.55%\n",
      "Epoch: 110, Mad: 0.0503, Loss: 2.1627, Train: 49.53%, Valid: 48.80% Test: 49.59%\n",
      "Epoch: 111, Mad: 0.0504, Loss: 2.1645, Train: 49.62%, Valid: 48.84% Test: 49.70%\n",
      "Epoch: 112, Mad: 0.0504, Loss: 2.1527, Train: 49.70%, Valid: 48.91% Test: 49.79%\n",
      "Epoch: 113, Mad: 0.0505, Loss: 2.1565, Train: 49.77%, Valid: 48.91% Test: 49.87%\n",
      "Epoch: 114, Mad: 0.0509, Loss: 2.1485, Train: 49.84%, Valid: 48.91% Test: 50.04%\n",
      "Epoch: 115, Mad: 0.0509, Loss: 2.1506, Train: 49.94%, Valid: 49.07% Test: 50.13%\n",
      "Epoch: 116, Mad: 0.0505, Loss: 2.1419, Train: 50.03%, Valid: 49.20% Test: 50.16%\n",
      "Epoch: 117, Mad: 0.0509, Loss: 2.1497, Train: 50.08%, Valid: 49.24% Test: 50.21%\n",
      "Epoch: 118, Mad: 0.0509, Loss: 2.1391, Train: 50.11%, Valid: 49.29% Test: 50.24%\n",
      "Epoch: 119, Mad: 0.0512, Loss: 2.1429, Train: 50.16%, Valid: 49.33% Test: 50.27%\n",
      "Epoch: 120, Mad: 0.0504, Loss: 2.1386, Train: 50.22%, Valid: 49.47% Test: 50.30%\n",
      "Epoch: 121, Mad: 0.0508, Loss: 2.1293, Train: 50.25%, Valid: 49.44% Test: 50.36%\n",
      "Epoch: 122, Mad: 0.0508, Loss: 2.1269, Train: 50.28%, Valid: 49.44% Test: 50.40%\n",
      "Epoch: 123, Mad: 0.0507, Loss: 2.1271, Train: 50.30%, Valid: 49.53% Test: 50.37%\n",
      "Epoch: 124, Mad: 0.0511, Loss: 2.1213, Train: 50.34%, Valid: 49.60% Test: 50.32%\n",
      "Epoch: 125, Mad: 0.0511, Loss: 2.1199, Train: 50.38%, Valid: 49.62% Test: 50.31%\n",
      "Epoch: 126, Mad: 0.0513, Loss: 2.1184, Train: 50.42%, Valid: 49.67% Test: 50.38%\n",
      "Epoch: 127, Mad: 0.0510, Loss: 2.1157, Train: 50.47%, Valid: 49.73% Test: 50.46%\n",
      "Epoch: 128, Mad: 0.0511, Loss: 2.1143, Train: 50.54%, Valid: 49.84% Test: 50.53%\n",
      "Epoch: 129, Mad: 0.0510, Loss: 2.1155, Train: 50.58%, Valid: 49.82% Test: 50.60%\n",
      "Epoch: 130, Mad: 0.0511, Loss: 2.1099, Train: 50.66%, Valid: 49.84% Test: 50.67%\n",
      "Epoch: 131, Mad: 0.0514, Loss: 2.1058, Train: 50.72%, Valid: 49.87% Test: 50.77%\n",
      "Epoch: 132, Mad: 0.0512, Loss: 2.1047, Train: 50.76%, Valid: 49.87% Test: 50.81%\n",
      "Epoch: 133, Mad: 0.0513, Loss: 2.0954, Train: 50.77%, Valid: 49.84% Test: 50.81%\n",
      "Epoch: 134, Mad: 0.0513, Loss: 2.0974, Train: 50.82%, Valid: 49.80% Test: 50.85%\n",
      "Epoch: 135, Mad: 0.0514, Loss: 2.0945, Train: 50.84%, Valid: 49.84% Test: 50.87%\n",
      "Epoch: 136, Mad: 0.0515, Loss: 2.0930, Train: 50.89%, Valid: 49.82% Test: 50.94%\n",
      "Epoch: 137, Mad: 0.0515, Loss: 2.0944, Train: 50.93%, Valid: 49.91% Test: 50.93%\n",
      "Epoch: 138, Mad: 0.0513, Loss: 2.0766, Train: 50.95%, Valid: 49.87% Test: 50.97%\n",
      "Epoch: 139, Mad: 0.0517, Loss: 2.0867, Train: 51.00%, Valid: 49.91% Test: 51.01%\n",
      "Epoch: 140, Mad: 0.0516, Loss: 2.0829, Train: 51.02%, Valid: 50.00% Test: 51.04%\n",
      "Epoch: 141, Mad: 0.0517, Loss: 2.0846, Train: 51.08%, Valid: 50.04% Test: 51.17%\n",
      "Epoch: 142, Mad: 0.0518, Loss: 2.0801, Train: 51.09%, Valid: 50.16% Test: 51.21%\n",
      "Epoch: 143, Mad: 0.0515, Loss: 2.0778, Train: 51.13%, Valid: 50.11% Test: 51.28%\n",
      "Epoch: 144, Mad: 0.0520, Loss: 2.0781, Train: 51.16%, Valid: 50.18% Test: 51.35%\n",
      "Epoch: 145, Mad: 0.0517, Loss: 2.0725, Train: 51.20%, Valid: 50.22% Test: 51.36%\n",
      "Epoch: 146, Mad: 0.0518, Loss: 2.0693, Train: 51.25%, Valid: 50.31% Test: 51.37%\n",
      "Epoch: 147, Mad: 0.0518, Loss: 2.0689, Train: 51.28%, Valid: 50.29% Test: 51.36%\n",
      "Epoch: 148, Mad: 0.0515, Loss: 2.0651, Train: 51.31%, Valid: 50.22% Test: 51.36%\n",
      "Epoch: 149, Mad: 0.0520, Loss: 2.0636, Train: 51.35%, Valid: 50.24% Test: 51.37%\n",
      "Epoch: 150, Mad: 0.0517, Loss: 2.0580, Train: 51.38%, Valid: 50.29% Test: 51.38%\n",
      "Epoch: 151, Mad: 0.0517, Loss: 2.0549, Train: 51.42%, Valid: 50.29% Test: 51.36%\n",
      "Epoch: 152, Mad: 0.0519, Loss: 2.0533, Train: 51.49%, Valid: 50.31% Test: 51.40%\n",
      "Epoch: 153, Mad: 0.0522, Loss: 2.0549, Train: 51.49%, Valid: 50.36% Test: 51.47%\n",
      "Epoch: 154, Mad: 0.0524, Loss: 2.0544, Train: 51.52%, Valid: 50.42% Test: 51.49%\n",
      "Epoch: 155, Mad: 0.0521, Loss: 2.0508, Train: 51.59%, Valid: 50.49% Test: 51.51%\n",
      "Epoch: 156, Mad: 0.0524, Loss: 2.0441, Train: 51.61%, Valid: 50.44% Test: 51.52%\n",
      "Epoch: 157, Mad: 0.0520, Loss: 2.0446, Train: 51.63%, Valid: 50.47% Test: 51.62%\n",
      "Epoch: 158, Mad: 0.0524, Loss: 2.0428, Train: 51.66%, Valid: 50.47% Test: 51.64%\n",
      "Epoch: 159, Mad: 0.0527, Loss: 2.0392, Train: 51.69%, Valid: 50.47% Test: 51.67%\n",
      "Epoch: 160, Mad: 0.0524, Loss: 2.0394, Train: 51.69%, Valid: 50.53% Test: 51.76%\n",
      "Epoch: 161, Mad: 0.0522, Loss: 2.0384, Train: 51.72%, Valid: 50.67% Test: 51.81%\n",
      "Epoch: 162, Mad: 0.0525, Loss: 2.0442, Train: 51.78%, Valid: 50.69% Test: 51.92%\n",
      "Epoch: 163, Mad: 0.0522, Loss: 2.0338, Train: 51.83%, Valid: 50.67% Test: 51.99%\n",
      "Epoch: 164, Mad: 0.0527, Loss: 2.0363, Train: 51.84%, Valid: 50.67% Test: 52.04%\n",
      "Epoch: 165, Mad: 0.0523, Loss: 2.0245, Train: 51.85%, Valid: 50.73% Test: 52.06%\n",
      "Epoch: 166, Mad: 0.0525, Loss: 2.0301, Train: 51.92%, Valid: 50.82% Test: 52.09%\n",
      "Epoch: 167, Mad: 0.0526, Loss: 2.0251, Train: 51.94%, Valid: 50.84% Test: 52.15%\n",
      "Epoch: 168, Mad: 0.0525, Loss: 2.0280, Train: 51.98%, Valid: 50.82% Test: 52.15%\n",
      "Epoch: 169, Mad: 0.0524, Loss: 2.0254, Train: 52.02%, Valid: 50.80% Test: 52.13%\n",
      "Epoch: 170, Mad: 0.0529, Loss: 2.0255, Train: 52.05%, Valid: 50.78% Test: 52.13%\n",
      "Epoch: 171, Mad: 0.0527, Loss: 2.0246, Train: 52.08%, Valid: 50.82% Test: 52.13%\n",
      "Epoch: 172, Mad: 0.0530, Loss: 2.0209, Train: 52.08%, Valid: 50.84% Test: 52.12%\n",
      "Epoch: 173, Mad: 0.0527, Loss: 2.0154, Train: 52.11%, Valid: 50.89% Test: 52.16%\n",
      "Epoch: 174, Mad: 0.0528, Loss: 2.0103, Train: 52.15%, Valid: 50.91% Test: 52.21%\n",
      "Epoch: 175, Mad: 0.0527, Loss: 2.0123, Train: 52.20%, Valid: 51.00% Test: 52.33%\n",
      "Epoch: 176, Mad: 0.0528, Loss: 2.0101, Train: 52.20%, Valid: 50.93% Test: 52.36%\n",
      "Epoch: 177, Mad: 0.0528, Loss: 2.0125, Train: 52.22%, Valid: 51.02% Test: 52.37%\n",
      "Epoch: 178, Mad: 0.0530, Loss: 2.0065, Train: 52.27%, Valid: 51.07% Test: 52.39%\n",
      "Epoch: 179, Mad: 0.0530, Loss: 2.0071, Train: 52.29%, Valid: 51.11% Test: 52.43%\n",
      "Epoch: 180, Mad: 0.0529, Loss: 2.0045, Train: 52.34%, Valid: 51.18% Test: 52.42%\n",
      "Epoch: 181, Mad: 0.0528, Loss: 2.0047, Train: 52.38%, Valid: 51.22% Test: 52.46%\n",
      "Epoch: 182, Mad: 0.0528, Loss: 2.0025, Train: 52.41%, Valid: 51.31% Test: 52.50%\n",
      "Epoch: 183, Mad: 0.0527, Loss: 1.9973, Train: 52.42%, Valid: 51.27% Test: 52.47%\n",
      "Epoch: 184, Mad: 0.0526, Loss: 1.9963, Train: 52.45%, Valid: 51.22% Test: 52.44%\n",
      "Epoch: 185, Mad: 0.0528, Loss: 1.9930, Train: 52.47%, Valid: 51.22% Test: 52.47%\n",
      "Epoch: 186, Mad: 0.0533, Loss: 1.9923, Train: 52.52%, Valid: 51.24% Test: 52.50%\n",
      "Epoch: 187, Mad: 0.0531, Loss: 1.9978, Train: 52.56%, Valid: 51.33% Test: 52.55%\n",
      "Epoch: 188, Mad: 0.0531, Loss: 1.9855, Train: 52.57%, Valid: 51.38% Test: 52.57%\n",
      "Epoch: 189, Mad: 0.0533, Loss: 1.9913, Train: 52.60%, Valid: 51.36% Test: 52.50%\n",
      "Epoch: 190, Mad: 0.0535, Loss: 1.9825, Train: 52.59%, Valid: 51.36% Test: 52.54%\n",
      "Epoch: 191, Mad: 0.0534, Loss: 1.9925, Train: 52.60%, Valid: 51.38% Test: 52.59%\n",
      "Epoch: 192, Mad: 0.0533, Loss: 1.9911, Train: 52.62%, Valid: 51.38% Test: 52.59%\n",
      "Epoch: 193, Mad: 0.0532, Loss: 1.9894, Train: 52.66%, Valid: 51.38% Test: 52.67%\n",
      "Epoch: 194, Mad: 0.0534, Loss: 1.9859, Train: 52.68%, Valid: 51.33% Test: 52.70%\n",
      "Epoch: 195, Mad: 0.0537, Loss: 1.9847, Train: 52.71%, Valid: 51.36% Test: 52.74%\n",
      "Epoch: 196, Mad: 0.0535, Loss: 1.9799, Train: 52.74%, Valid: 51.24% Test: 52.76%\n",
      "Epoch: 197, Mad: 0.0537, Loss: 1.9768, Train: 52.80%, Valid: 51.33% Test: 52.77%\n",
      "Epoch: 198, Mad: 0.0536, Loss: 1.9778, Train: 52.85%, Valid: 51.33% Test: 52.83%\n",
      "Epoch: 199, Mad: 0.0533, Loss: 1.9788, Train: 52.85%, Valid: 51.49% Test: 52.85%\n",
      "Epoch: 200, Mad: 0.0539, Loss: 1.9796, Train: 52.90%, Valid: 51.47% Test: 52.86%\n",
      "Best Test Accuracy: 52.85% at Epoch: 199\n"
     ]
    }
   ],
   "source": [
    "import copy\n",
    "import torch.optim as optim\n",
    "import torch.nn as nn\n",
    "import matplotlib.pyplot as plt\n",
    "import math\n",
    "\n",
    "optimizer = optim.Adam(model.parameters(), lr=1e-3)\n",
    "loss_fn = nn.CrossEntropyLoss()\n",
    "#loss_fn = nn.MSELoss()\n",
    "epochs = args['epochs']\n",
    "\n",
    "best_model = None\n",
    "best_valid_acc = 0\n",
    "best_test_acc = 0\n",
    "best_epoch = 0\n",
    "\n",
    "# Initialize lists to store performance data\n",
    "train_accuracies = []\n",
    "valid_accuracies = []\n",
    "test_accuracies = []\n",
    "mad_values = []  # List to store MAD values\n",
    "\n",
    "for epoch in range(1, 1 + epochs):\n",
    "    loss, madgap = train(model, sub_graph, train_idx, optimizer, loss_fn)\n",
    "    result = test(model, sub_graph, split_idx, evaluator)\n",
    "    train_acc, valid_acc, test_acc = result\n",
    "\n",
    "    # Add performance data to lists\n",
    "    train_accuracies.append(train_acc)\n",
    "    valid_accuracies.append(valid_acc)\n",
    "    test_accuracies.append(test_acc)\n",
    "    mad_values.append(madgap.numpy().sum() / len(madgap))  # Record MAD\n",
    "\n",
    "    if valid_acc > best_valid_acc:\n",
    "        best_valid_acc = valid_acc\n",
    "        best_test_acc = test_acc  # Update best test accuracy\n",
    "        best_epoch = epoch  # Update best epoch\n",
    "        best_model = copy.deepcopy(model)\n",
    "\n",
    "    print(\n",
    "        f'Epoch: {epoch:02d}, '\n",
    "        f'Mad: {mad_values[-1]:.4f}, '  # Print current MAD\n",
    "        f'Loss: {loss:.4f}, '\n",
    "        f'Train: {100 * train_acc:.2f}%, '\n",
    "        f'Valid: {100 * valid_acc:.2f}% '\n",
    "        f'Test: {100 * test_acc:.2f}%')\n",
    "\n",
    "# Output best test set result at the end of training\n",
    "print(f'Best Test Accuracy: {100 * best_test_acc:.2f}% at Epoch: {best_epoch}')\n",
    "\n"
   ]
  },
  {
   "cell_type": "code",
   "execution_count": 66,
   "id": "UufcPcN7MthI",
   "metadata": {
    "colab": {
     "base_uri": "https://localhost:8080/"
    },
    "id": "UufcPcN7MthI",
    "outputId": "42a51220-21a4-41d9-859f-19b1c5ac5c9a"
   },
   "outputs": [
    {
     "name": "stdout",
     "output_type": "stream",
     "text": [
      "Test Accuracy: 0.5828, Precision: 0.5516, Recall: 0.5828, F1 Score: 0.5503\n"
     ]
    },
    {
     "name": "stderr",
     "output_type": "stream",
     "text": [
      "/usr/local/lib/python3.10/dist-packages/sklearn/metrics/_classification.py:1344: UndefinedMetricWarning: Precision is ill-defined and being set to 0.0 in labels with no predicted samples. Use `zero_division` parameter to control this behavior.\n",
      "  _warn_prf(average, modifier, msg_start, len(result))\n"
     ]
    }
   ],
   "source": [
    "from sklearn.metrics import precision_score, recall_score, f1_score, accuracy_score\n",
    "\n",
    "def compute_metrics(model, sub_graph, indices):\n",
    "    model.eval()  # Set the model to evaluation mode\n",
    "    y_true = sub_graph.y[indices].cpu().numpy()  # True labels\n",
    "\n",
    "    with torch.no_grad():\n",
    "        outputs = model(sub_graph.x, sub_graph.edge_index)  # Model predictions\n",
    "        _, predicted = torch.max(outputs[indices], 1)\n",
    "        y_pred = predicted.cpu().numpy()\n",
    "\n",
    "    accuracy = accuracy_score(y_true, y_pred)\n",
    "    precision = precision_score(y_true, y_pred, average='weighted')  # Adjusted for class imbalance\n",
    "    recall = recall_score(y_true, y_pred, average='weighted')  # Adjusted for class imbalance\n",
    "    f1 = f1_score(y_true, y_pred, average='weighted')  # Adjusted for class imbalance\n",
    "\n",
    "    return accuracy, precision, recall, f1\n",
    "\n",
    "# Compute metrics for the best model on the test set\n",
    "test_accuracy, test_precision, test_recall, test_f1 = compute_metrics(best_model, sub_graph, test_idx)\n",
    "print(f'Test Accuracy: {test_accuracy:.4f}, Precision: {test_precision:.4f}, Recall: {test_recall:.4f}, F1 Score: {test_f1:.4f}')\n"
   ]
  },
  {
   "cell_type": "code",
   "execution_count": 67,
   "id": "fc5180cb",
   "metadata": {
    "colab": {
     "base_uri": "https://localhost:8080/"
    },
    "id": "fc5180cb",
    "outputId": "eb4c3c76-7987-4077-a063-9522d6e39e2d"
   },
   "outputs": [
    {
     "data": {
      "text/plain": [
       "0.5049582465277778"
      ]
     },
     "execution_count": 67,
     "metadata": {},
     "output_type": "execute_result"
    }
   ],
   "source": [
    "madgap.numpy().sum()/ len(madgap)"
   ]
  },
  {
   "cell_type": "code",
   "execution_count": 68,
   "id": "815ae284",
   "metadata": {
    "colab": {
     "base_uri": "https://localhost:8080/",
     "height": 507
    },
    "id": "815ae284",
    "outputId": "bb6c61ce-f9ca-4b94-9e80-b335f65a95ea"
   },
   "outputs": [
    {
     "data": {
      "image/png": "[encoded data removed]",
      "text/plain": [
       "<Figure size 1200x500 with 2 Axes>"
      ]
     },
     "metadata": {},
     "output_type": "display_data"
    }
   ],
   "source": [
    "import matplotlib.pyplot as plt\n",
    "\n",
    "# Plot performance curves\n",
    "epochs_range = range(1, 1 + epochs)\n",
    "\n",
    "# Plot for Accuracies\n",
    "plt.figure(figsize=(12, 5))\n",
    "\n",
    "# Plot for Accuracy\n",
    "plt.subplot(1, 2, 1)  # Two plots, this is the first\n",
    "plt.plot(epochs_range, train_accuracies, label='Train Accuracy')\n",
    "plt.plot(epochs_range, valid_accuracies, label='Valid Accuracy')\n",
    "plt.plot(epochs_range, test_accuracies, label='Test Accuracy')\n",
    "plt.xlabel('Epochs')\n",
    "plt.ylabel('Accuracy')\n",
    "plt.title('Model Accuracies Over Epochs')\n",
    "plt.legend()\n",
    "\n",
    "# Plot for MAD\n",
    "plt.subplot(1, 2, 2)  # Two plots, this is the second\n",
    "plt.plot(epochs_range, mad_values, label='MAD', color='red')\n",
    "plt.xlabel('Epochs')\n",
    "plt.ylabel('MAD')\n",
    "plt.title('Mean Absolute Difference (MAD) Over Epochs')\n",
    "plt.legend()\n",
    "\n",
    "plt.tight_layout()\n",
    "plt.show()\n"
   ]
  },
  {
   "cell_type": "code",
   "execution_count": null,
   "id": "7623e24d",
   "metadata": {
    "colab": {
     "base_uri": "https://localhost:8080/"
    },
    "id": "7623e24d",
    "outputId": "640c2f37-d406-49b4-8e39-09c79cbf9997"
   },
   "outputs": [
    {
     "data": {
      "text/plain": [
       "tensor([[ 4],\n",
       "        [ 5],\n",
       "        [28],\n",
       "        ...,\n",
       "        [10],\n",
       "        [ 4],\n",
       "        [ 1]])"
      ]
     },
     "execution_count": 101,
     "metadata": {},
     "output_type": "execute_result"
    }
   ],
   "source": [
    "data.y"
   ]
  }
 ],
 "metadata": {
  "accelerator": "GPU",
  "colab": {
   "gpuType": "V100",
   "machine_shape": "hm",
   "provenance": [],
   "toc_visible": true
  },
  "kernelspec": {
   "display_name": "Python 3 (ipykernel)",
   "language": "python",
   "name": "python3"
  },
  "language_info": {
   "codemirror_mode": {
    "name": "ipython",
    "version": 3
   },
   "file_extension": ".py",
   "mimetype": "text/x-python",
   "name": "python",
   "nbconvert_exporter": "python",
   "pygments_lexer": "ipython3",
   "version": "3.7.13"
  }
 },
 "nbformat": 4,
 "nbformat_minor": 5
}
