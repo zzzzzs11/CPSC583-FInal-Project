{
 "cells": [
  {
   "cell_type": "markdown",
   "metadata": {
    "id": "g_Vh9kosaChl"
   },
   "source": [
    "## OGBN-Products"
   ]
  },
  {
   "cell_type": "code",
   "execution_count": 66,
   "metadata": {
    "colab": {
     "base_uri": "https://localhost:8080/"
    },
    "id": "p8rrWjhMfnUL",
    "outputId": "8a42a06c-5909-40cf-e8ed-6ca77fb5d906"
   },
   "outputs": [
    {
     "name": "stdout",
     "output_type": "stream",
     "text": [
      "Drive already mounted at /content/drive; to attempt to forcibly remount, call drive.mount(\"/content/drive\", force_remount=True).\n"
     ]
    }
   ],
   "source": [
    "from google.colab import drive\n",
    "drive.mount('/content/drive')"
   ]
  },
  {
   "cell_type": "code",
   "execution_count": 67,
   "metadata": {
    "colab": {
     "base_uri": "https://localhost:8080/"
    },
    "id": "YY52VfILgaaB",
    "outputId": "1c1efa09-0e8e-4d04-a01b-2727e7104e3c"
   },
   "outputs": [
    {
     "name": "stdout",
     "output_type": "stream",
     "text": [
      "/content/drive/MyDrive/graph final project\n"
     ]
    }
   ],
   "source": [
    "cd /content/drive/MyDrive/graph final project"
   ]
  },
  {
   "cell_type": "code",
   "execution_count": 69,
   "metadata": {
    "colab": {
     "base_uri": "https://localhost:8080/"
    },
    "id": "2vkP8pA1qBE5",
    "outputId": "eaffe5e2-8e66-481b-ec80-d06e32ca6265"
   },
   "outputs": [
    {
     "name": "stdout",
     "output_type": "stream",
     "text": [
      "PyTorch has version 2.1.0+cu118\n"
     ]
    }
   ],
   "source": [
    "import torch\n",
    "import os\n",
    "print(\"PyTorch has version {}\".format(torch.__version__))"
   ]
  },
  {
   "cell_type": "code",
   "execution_count": 70,
   "metadata": {
    "colab": {
     "base_uri": "https://localhost:8080/"
    },
    "id": "CBZuM9qeelGW",
    "outputId": "667231b9-512f-4d1a-d47d-f560f7ef0fec"
   },
   "outputs": [
    {
     "name": "stdout",
     "output_type": "stream",
     "text": [
      "Looking in links: https://pytorch-geometric.com/whl/torch-2.1.0+cu118.html\n",
      "Requirement already satisfied: torch-scatter in /usr/local/lib/python3.10/dist-packages (2.1.2+pt21cu118)\n",
      "Looking in links: https://pytorch-geometric.com/whl/torch-2.1.0+cu118.html\n",
      "Requirement already satisfied: torch-sparse in /usr/local/lib/python3.10/dist-packages (0.6.18+pt21cu118)\n",
      "Requirement already satisfied: scipy in /usr/local/lib/python3.10/dist-packages (from torch-sparse) (1.11.4)\n",
      "Requirement already satisfied: numpy<1.28.0,>=1.21.6 in /usr/local/lib/python3.10/dist-packages (from scipy->torch-sparse) (1.23.5)\n",
      "Requirement already satisfied: torch-geometric in /usr/local/lib/python3.10/dist-packages (2.4.0)\n",
      "Requirement already satisfied: tqdm in /usr/local/lib/python3.10/dist-packages (from torch-geometric) (4.66.1)\n",
      "Requirement already satisfied: numpy in /usr/local/lib/python3.10/dist-packages (from torch-geometric) (1.23.5)\n",
      "Requirement already satisfied: scipy in /usr/local/lib/python3.10/dist-packages (from torch-geometric) (1.11.4)\n",
      "Requirement already satisfied: jinja2 in /usr/local/lib/python3.10/dist-packages (from torch-geometric) (3.1.2)\n",
      "Requirement already satisfied: requests in /usr/local/lib/python3.10/dist-packages (from torch-geometric) (2.31.0)\n",
      "Requirement already satisfied: pyparsing in /usr/local/lib/python3.10/dist-packages (from torch-geometric) (3.1.1)\n",
      "Requirement already satisfied: scikit-learn in /usr/local/lib/python3.10/dist-packages (from torch-geometric) (1.2.2)\n",
      "Requirement already satisfied: psutil>=5.8.0 in /usr/local/lib/python3.10/dist-packages (from torch-geometric) (5.9.5)\n",
      "Requirement already satisfied: MarkupSafe>=2.0 in /usr/local/lib/python3.10/dist-packages (from jinja2->torch-geometric) (2.1.3)\n",
      "Requirement already satisfied: charset-normalizer<4,>=2 in /usr/local/lib/python3.10/dist-packages (from requests->torch-geometric) (3.3.2)\n",
      "Requirement already satisfied: idna<4,>=2.5 in /usr/local/lib/python3.10/dist-packages (from requests->torch-geometric) (3.6)\n",
      "Requirement already satisfied: urllib3<3,>=1.21.1 in /usr/local/lib/python3.10/dist-packages (from requests->torch-geometric) (2.0.7)\n",
      "Requirement already satisfied: certifi>=2017.4.17 in /usr/local/lib/python3.10/dist-packages (from requests->torch-geometric) (2023.11.17)\n",
      "Requirement already satisfied: joblib>=1.1.1 in /usr/local/lib/python3.10/dist-packages (from scikit-learn->torch-geometric) (1.3.2)\n",
      "Requirement already satisfied: threadpoolctl>=2.0.0 in /usr/local/lib/python3.10/dist-packages (from scikit-learn->torch-geometric) (3.2.0)\n",
      "Requirement already satisfied: ogb in /usr/local/lib/python3.10/dist-packages (1.3.6)\n",
      "Requirement already satisfied: torch>=1.6.0 in /usr/local/lib/python3.10/dist-packages (from ogb) (2.1.0+cu118)\n",
      "Requirement already satisfied: numpy>=1.16.0 in /usr/local/lib/python3.10/dist-packages (from ogb) (1.23.5)\n",
      "Requirement already satisfied: tqdm>=4.29.0 in /usr/local/lib/python3.10/dist-packages (from ogb) (4.66.1)\n",
      "Requirement already satisfied: scikit-learn>=0.20.0 in /usr/local/lib/python3.10/dist-packages (from ogb) (1.2.2)\n",
      "Requirement already satisfied: pandas>=0.24.0 in /usr/local/lib/python3.10/dist-packages (from ogb) (1.5.3)\n",
      "Requirement already satisfied: six>=1.12.0 in /usr/local/lib/python3.10/dist-packages (from ogb) (1.16.0)\n",
      "Requirement already satisfied: urllib3>=1.24.0 in /usr/local/lib/python3.10/dist-packages (from ogb) (2.0.7)\n",
      "Requirement already satisfied: outdated>=0.2.0 in /usr/local/lib/python3.10/dist-packages (from ogb) (0.2.2)\n",
      "Requirement already satisfied: setuptools>=44 in /usr/local/lib/python3.10/dist-packages (from outdated>=0.2.0->ogb) (67.7.2)\n",
      "Requirement already satisfied: littleutils in /usr/local/lib/python3.10/dist-packages (from outdated>=0.2.0->ogb) (0.2.2)\n",
      "Requirement already satisfied: requests in /usr/local/lib/python3.10/dist-packages (from outdated>=0.2.0->ogb) (2.31.0)\n",
      "Requirement already satisfied: python-dateutil>=2.8.1 in /usr/local/lib/python3.10/dist-packages (from pandas>=0.24.0->ogb) (2.8.2)\n",
      "Requirement already satisfied: pytz>=2020.1 in /usr/local/lib/python3.10/dist-packages (from pandas>=0.24.0->ogb) (2023.3.post1)\n",
      "Requirement already satisfied: scipy>=1.3.2 in /usr/local/lib/python3.10/dist-packages (from scikit-learn>=0.20.0->ogb) (1.11.4)\n",
      "Requirement already satisfied: joblib>=1.1.1 in /usr/local/lib/python3.10/dist-packages (from scikit-learn>=0.20.0->ogb) (1.3.2)\n",
      "Requirement already satisfied: threadpoolctl>=2.0.0 in /usr/local/lib/python3.10/dist-packages (from scikit-learn>=0.20.0->ogb) (3.2.0)\n",
      "Requirement already satisfied: filelock in /usr/local/lib/python3.10/dist-packages (from torch>=1.6.0->ogb) (3.13.1)\n",
      "Requirement already satisfied: typing-extensions in /usr/local/lib/python3.10/dist-packages (from torch>=1.6.0->ogb) (4.5.0)\n",
      "Requirement already satisfied: sympy in /usr/local/lib/python3.10/dist-packages (from torch>=1.6.0->ogb) (1.12)\n",
      "Requirement already satisfied: networkx in /usr/local/lib/python3.10/dist-packages (from torch>=1.6.0->ogb) (3.2.1)\n",
      "Requirement already satisfied: jinja2 in /usr/local/lib/python3.10/dist-packages (from torch>=1.6.0->ogb) (3.1.2)\n",
      "Requirement already satisfied: fsspec in /usr/local/lib/python3.10/dist-packages (from torch>=1.6.0->ogb) (2023.6.0)\n",
      "Requirement already satisfied: triton==2.1.0 in /usr/local/lib/python3.10/dist-packages (from torch>=1.6.0->ogb) (2.1.0)\n",
      "Requirement already satisfied: MarkupSafe>=2.0 in /usr/local/lib/python3.10/dist-packages (from jinja2->torch>=1.6.0->ogb) (2.1.3)\n",
      "Requirement already satisfied: charset-normalizer<4,>=2 in /usr/local/lib/python3.10/dist-packages (from requests->outdated>=0.2.0->ogb) (3.3.2)\n",
      "Requirement already satisfied: idna<4,>=2.5 in /usr/local/lib/python3.10/dist-packages (from requests->outdated>=0.2.0->ogb) (3.6)\n",
      "Requirement already satisfied: certifi>=2017.4.17 in /usr/local/lib/python3.10/dist-packages (from requests->outdated>=0.2.0->ogb) (2023.11.17)\n",
      "Requirement already satisfied: mpmath>=0.19 in /usr/local/lib/python3.10/dist-packages (from sympy->torch>=1.6.0->ogb) (1.3.0)\n"
     ]
    }
   ],
   "source": [
    "# Install torch geometric\n",
    "!pip install torch-scatter -f https://pytorch-geometric.com/whl/torch-{torch.__version__}.html\n",
    "!pip install torch-sparse -f https://pytorch-geometric.com/whl/torch-{torch.__version__}.html\n",
    "!pip install torch-geometric\n",
    "!pip install ogb"
   ]
  },
  {
   "cell_type": "code",
   "execution_count": 71,
   "metadata": {
    "id": "3SkS1Mzcbe8k"
   },
   "outputs": [],
   "source": [
    "from ogb.nodeproppred import PygNodePropPredDataset, Evaluator\n",
    "import torch.nn.functional as F\n",
    "from torch_geometric.nn import GCNConv\n",
    "import torch_geometric.transforms as T\n",
    "from torch_geometric.data import DataLoader\n",
    "import numpy as np\n",
    "from torch_geometric.typing import SparseTensor\n",
    "import pandas as pd"
   ]
  },
  {
   "cell_type": "code",
   "execution_count": 72,
   "metadata": {
    "colab": {
     "base_uri": "https://localhost:8080/"
    },
    "id": "0ibJ0ieoIwQM",
    "outputId": "bcfbe82d-b5ed-4497-c294-3c69c58c2d72"
   },
   "outputs": [
    {
     "name": "stdout",
     "output_type": "stream",
     "text": [
      "Device: cuda\n"
     ]
    }
   ],
   "source": [
    "dataset_name = 'ogbn-products'\n",
    "#dataset_name = 'ogbn-arxiv'\n",
    "dataset = PygNodePropPredDataset(name=dataset_name,\n",
    "                                 transform=T.ToSparseTensor())\n",
    "data = dataset[0]\n",
    "\n",
    "device = 'cuda' if torch.cuda.is_available() else 'cpu'\n",
    "\n",
    "# If you use GPU, the device should be cuda\n",
    "print('Device: {}'.format(device))\n",
    "\n",
    "# data = data.to(device)\n",
    "# split_idx = dataset.get_idx_split()\n",
    "# train_idx = split_idx['train'].to(device)"
   ]
  },
  {
   "cell_type": "code",
   "execution_count": 73,
   "metadata": {
    "colab": {
     "base_uri": "https://localhost:8080/"
    },
    "id": "Jrg_vcWKegRv",
    "outputId": "89fcaa16-d3dd-4f6d-9144-4113eef0b2e1"
   },
   "outputs": [
    {
     "data": {
      "text/plain": [
       "Data(num_nodes=2449029, x=[2449029, 100], y=[2449029, 1], adj_t=[2449029, 2449029, nnz=123718280])"
      ]
     },
     "execution_count": 73,
     "metadata": {},
     "output_type": "execute_result"
    }
   ],
   "source": [
    "data"
   ]
  },
  {
   "cell_type": "code",
   "execution_count": 74,
   "metadata": {
    "colab": {
     "base_uri": "https://localhost:8080/"
    },
    "id": "Lp8pnCy5-j7l",
    "outputId": "b5623681-3feb-4772-ba27-7d03d1a1beed"
   },
   "outputs": [
    {
     "name": "stdout",
     "output_type": "stream",
     "text": [
      "Task type: multiclass classification\n"
     ]
    }
   ],
   "source": [
    "# Check task type\n",
    "print('Task type: {}'.format(dataset.task_type))"
   ]
  },
  {
   "cell_type": "code",
   "execution_count": 75,
   "metadata": {
    "colab": {
     "base_uri": "https://localhost:8080/"
    },
    "id": "5hgtYSp9egRw",
    "outputId": "3596dc50-7b4e-4328-f1f2-8dcad4303198"
   },
   "outputs": [
    {
     "data": {
      "text/plain": [
       "torch.Size([2449029, 100])"
      ]
     },
     "execution_count": 75,
     "metadata": {},
     "output_type": "execute_result"
    }
   ],
   "source": [
    "dataset.x.shape"
   ]
  },
  {
   "cell_type": "code",
   "execution_count": 76,
   "metadata": {
    "colab": {
     "base_uri": "https://localhost:8080/"
    },
    "id": "jN80UY6bALzs",
    "outputId": "45521abf-7314-425b-e3d4-7eda21358438"
   },
   "outputs": [
    {
     "data": {
      "text/plain": [
       "Data(num_nodes=100000, x=[100000, 100], y=[100000, 1], adj_t=[100000, 100000, nnz=2818046], edge_index=[2, 2818046])"
      ]
     },
     "execution_count": 76,
     "metadata": {},
     "output_type": "execute_result"
    }
   ],
   "source": [
    "# We need to have edge indxes to make a subgraph. We can get those from the adjacency matrix.\n",
    "data.edge_index = torch.stack([data.adj_t.__dict__[\"storage\"]._row, data.adj_t.__dict__[\"storage\"]._col])\n",
    "\n",
    "# We will only use the first 100000 nodes.\n",
    "sub_nodes = 100000\n",
    "sub_graph = data.subgraph(torch.arange(sub_nodes))\n",
    "\n",
    "# Update the adjaceny matrix according to the new graph\n",
    "sub_graph.adj_t = SparseTensor(\n",
    "    row=sub_graph.edge_index[0],\n",
    "    col=sub_graph.edge_index[1],\n",
    "    sparse_sizes=None,\n",
    "    is_sorted=True,\n",
    "    trust_data=True,\n",
    ")\n",
    "\n",
    "sub_graph = sub_graph.to(device)\n",
    "\n",
    "sub_graph\n",
    "\n",
    "\n"
   ]
  },
  {
   "cell_type": "code",
   "execution_count": 77,
   "metadata": {
    "colab": {
     "base_uri": "https://localhost:8080/"
    },
    "id": "w6_6YFEBApJq",
    "outputId": "bcf381b3-a03f-4038-8301-abb90fd8db0d"
   },
   "outputs": [
    {
     "data": {
      "text/plain": [
       "{'train': tensor([51928, 53393, 18967,  ..., 59979, 21842, 10517]),\n",
       " 'valid': tensor([98318, 96631, 91840,  ..., 77308, 23925, 89786]),\n",
       " 'test': tensor([62820, 59312,  1764,  ..., 24931, 76118, 32512])}"
      ]
     },
     "execution_count": 77,
     "metadata": {},
     "output_type": "execute_result"
    }
   ],
   "source": [
    "# Spilt data into train validation and test set\n",
    "split_sizes = [int(sub_nodes*0.8),int(sub_nodes*0.05),sub_nodes - int(sub_nodes*0.8) - int(sub_nodes*0.05)]\n",
    "indices = torch.arange(sub_nodes)\n",
    "np.random.shuffle(indices.numpy())\n",
    "split_idx = {s:t for t,s in zip(torch.split(indices, split_sizes, dim=0), [\"train\", \"valid\", \"test\"])}\n",
    "split_idx"
   ]
  },
  {
   "cell_type": "code",
   "execution_count": 78,
   "metadata": {
    "colab": {
     "base_uri": "https://localhost:8080/"
    },
    "id": "He5UuQ47egRw",
    "outputId": "04dc0a01-ad88-418f-d838-7dc1314cce20"
   },
   "outputs": [
    {
     "name": "stdout",
     "output_type": "stream",
     "text": [
      "Number of nodes in train set: 80000\n",
      "Number of nodes in valid set: 5000\n",
      "Number of nodes in test set: 15000\n"
     ]
    }
   ],
   "source": [
    "print(\"Number of nodes in train set:\", len(split_idx['train']))\n",
    "print(\"Number of nodes in valid set:\", len(split_idx['valid']))\n",
    "print(\"Number of nodes in test set:\", len(split_idx['test']))"
   ]
  },
  {
   "cell_type": "code",
   "execution_count": 79,
   "metadata": {
    "id": "4yXC8brSegRw"
   },
   "outputs": [],
   "source": [
    "# Set batch size for data loaders\n",
    "batch_size = 32\n",
    "\n",
    "# Split indices for train, validation, and test sets\n",
    "train_idx = split_idx[\"train\"]\n",
    "valid_idx = split_idx[\"valid\"]\n",
    "test_idx = split_idx[\"test\"]"
   ]
  },
  {
   "cell_type": "markdown",
   "metadata": {
    "id": "OgUA815bNJ8w"
   },
   "source": [
    "## Model"
   ]
  },
  {
   "cell_type": "code",
   "execution_count": 80,
   "metadata": {
    "id": "3TFUM1wPegRx"
   },
   "outputs": [],
   "source": [
    "from torch_scatter import scatter_mean,scatter_sum\n",
    "\n",
    "def mad_gap(x, edge_index):\n",
    "\n",
    "    with torch.no_grad():\n",
    "        dij = torch.cosine_similarity(x[edge_index[0]], x[edge_index[1]], dim=1, eps=1e-8)\n",
    "        dij = 1 - dij\n",
    "        # M^{tgt} = A\n",
    "        d_bar = scatter_sum(dij, edge_index[1])\n",
    "\n",
    "    return d_bar.cpu()\n"
   ]
  },
  {
   "cell_type": "code",
   "execution_count": 81,
   "metadata": {
    "id": "318M7d48P3JI"
   },
   "outputs": [],
   "source": [
    "class GCN(torch.nn.Module):\n",
    "    def __init__(self, input_dim, hidden_dim, output_dim, num_layers,\n",
    "                 dropout, return_embeds=False):\n",
    "\n",
    "        super(GCN, self).__init__()\n",
    "\n",
    "        # A list of GCNConv layers\n",
    "        self.convs = [\n",
    "            GCNConv(input_dim, hidden_dim),\n",
    "        ]\n",
    "\n",
    "        for _ in range(num_layers-1):\n",
    "            self.convs.append(GCNConv(hidden_dim, hidden_dim))\n",
    "\n",
    "        self.last_layer = GCNConv(hidden_dim, output_dim)\n",
    "\n",
    "\n",
    "        # A list of 1D batch normalization layers\n",
    "        self.bns = []\n",
    "        for _ in range(num_layers):\n",
    "            self.bns.append(torch.nn.BatchNorm1d(hidden_dim))\n",
    "\n",
    "        self.convs = torch.nn.ModuleList(self.convs)\n",
    "        self.bns = torch.nn.ModuleList(self.bns)\n",
    "\n",
    "        # The log softmax layer\n",
    "        self.softmax = torch.nn.LogSoftmax()\n",
    "\n",
    "\n",
    "        # Probability of an element getting zeroed\n",
    "        self.dropout = dropout\n",
    "\n",
    "        # Skip classification layer and return node embeddings\n",
    "        self.return_embeds = return_embeds\n",
    "\n",
    "    def reset_parameters(self):\n",
    "        for conv in self.convs:\n",
    "            conv.reset_parameters()\n",
    "        for bn in self.bns:\n",
    "            bn.reset_parameters()\n",
    "\n",
    "    def forward(self, x, adj_t):\n",
    "\n",
    "        for i in range(len(self.convs)):\n",
    "            x = self.convs[i](x, adj_t)\n",
    "            x = self.bns[i](x)\n",
    "            x = F.relu(x)\n",
    "            x = F.dropout(x, p=self.dropout, training=self.training)\n",
    "\n",
    "        x = self.last_layer(x, adj_t)\n",
    "\n",
    "        if not self.return_embeds:\n",
    "            x = self.softmax(x)\n",
    "\n",
    "        return x\n"
   ]
  },
  {
   "cell_type": "code",
   "execution_count": 82,
   "metadata": {
    "id": "BeyP_DhLegRx"
   },
   "outputs": [],
   "source": [
    "class ResGCN(torch.nn.Module):\n",
    "    def __init__(self, input_dim, hidden_dim, output_dim, num_layers,\n",
    "                 dropout, return_embeds=False):\n",
    "\n",
    "        super(ResGCN, self).__init__()\n",
    "\n",
    "        # A list of GCNConv layers\n",
    "        self.convs = [\n",
    "            GCNConv(input_dim, hidden_dim),\n",
    "        ]\n",
    "\n",
    "        for _ in range(num_layers-1):\n",
    "            self.convs.append(GCNConv(hidden_dim, hidden_dim))\n",
    "\n",
    "        self.last_layer = GCNConv(hidden_dim, output_dim)\n",
    "\n",
    "\n",
    "        # A list of 1D batch normalization layers\n",
    "        self.bns = []\n",
    "        for _ in range(num_layers):\n",
    "            self.bns.append(torch.nn.BatchNorm1d(hidden_dim))\n",
    "\n",
    "        self.convs = torch.nn.ModuleList(self.convs)\n",
    "        self.bns = torch.nn.ModuleList(self.bns)\n",
    "\n",
    "        # The log softmax layer\n",
    "        self.softmax = torch.nn.LogSoftmax()\n",
    "\n",
    "\n",
    "        # Probability of an element getting zeroed\n",
    "        self.dropout = dropout\n",
    "\n",
    "        # Skip classification layer and return node embeddings\n",
    "        self.return_embeds = return_embeds\n",
    "\n",
    "    def reset_parameters(self):\n",
    "        for conv in self.convs:\n",
    "            conv.reset_parameters()\n",
    "        for bn in self.bns:\n",
    "            bn.reset_parameters()\n",
    "\n",
    "    def forward(self, x, adj_t):\n",
    "        x = self.convs[0](x, adj_t)\n",
    "        x = self.bns[0](x)\n",
    "        x = F.relu(x)\n",
    "        x = F.dropout(x, p=self.dropout, training=self.training)\n",
    "\n",
    "        for i in range(1, len(self.convs) - 1):\n",
    "            identity = x\n",
    "            x = self.convs[i](x, adj_t)\n",
    "            x = self.bns[i](x)\n",
    "            x = F.relu(x)\n",
    "            x = F.dropout(x, p=self.dropout, training=self.training)\n",
    "            x += identity  # Add the residual connection\n",
    "\n",
    "        x = self.last_layer(x, adj_t)\n",
    "\n",
    "        if not self.return_embeds:\n",
    "            x = self.softmax(x)\n",
    "\n",
    "        return x"
   ]
  },
  {
   "cell_type": "code",
   "execution_count": 83,
   "metadata": {
    "id": "W6uhJGssegRx"
   },
   "outputs": [],
   "source": [
    "from torch_geometric.nn import GCNConv, GATConv\n",
    "\n",
    "class GCAN(torch.nn.Module):\n",
    "    def __init__(self, in_channels, hidden_channels, out_channels, heads=1):\n",
    "        super().__init__()\n",
    "\n",
    "        # Define the first GCNConv module\n",
    "        self.gcn1 = GCNConv(in_channels, hidden_channels)\n",
    "        self.gcn2 = GCNConv(hidden_channels, out_channels)\n",
    "\n",
    "        # Define the GATConv module instead of the second GCNConv\n",
    "        self.gat = GATConv(hidden_channels, out_channels, heads=heads)\n",
    "\n",
    "        # Define the ReLU function\n",
    "        self.relu = torch.nn.ReLU()\n",
    "\n",
    "    def forward(self, node_feature, edge_index):\n",
    "\n",
    "        # Use the first GCNConv module\n",
    "        x = self.gcn1(node_feature, edge_index)\n",
    "        x = self.relu(x)\n",
    "\n",
    "        # Use the GATConv module\n",
    "        output1 = self.gcn2(x, edge_index)\n",
    "        output2 = self.gat(x, edge_index)\n",
    "        output = output1 + output2\n",
    "\n",
    "        return output\n"
   ]
  },
  {
   "cell_type": "code",
   "execution_count": 84,
   "metadata": {
    "id": "wJXKovP_egRx"
   },
   "outputs": [],
   "source": [
    "import torch\n",
    "import torch.nn.functional as F\n",
    "from torch_geometric.nn import SAGEConv\n",
    "\n",
    "class GraphSAGE(torch.nn.Module):\n",
    "    def __init__(self, input_dim, hidden_dim, output_dim, num_layers, dropout, return_embeds=False):\n",
    "        super(GraphSAGE, self).__init__()\n",
    "\n",
    "        self.convs = torch.nn.ModuleList()\n",
    "        self.convs.append(SAGEConv(input_dim, hidden_dim))\n",
    "        for _ in range(num_layers - 1):\n",
    "            self.convs.append(SAGEConv(hidden_dim, hidden_dim))\n",
    "\n",
    "        self.last_layer = SAGEConv(hidden_dim, output_dim)\n",
    "\n",
    "        self.bns = torch.nn.ModuleList([torch.nn.BatchNorm1d(hidden_dim) for _ in range(num_layers)])\n",
    "\n",
    "        self.softmax = torch.nn.LogSoftmax(dim=1)\n",
    "        self.dropout = dropout\n",
    "        self.return_embeds = return_embeds\n",
    "\n",
    "    def reset_parameters(self):\n",
    "        for conv in self.convs:\n",
    "            conv.reset_parameters()\n",
    "        for bn in self.bns:\n",
    "            bn.reset_parameters()\n",
    "\n",
    "    def forward(self, x, edge_index):\n",
    "        for i, conv in enumerate(self.convs):\n",
    "            x = conv(x, edge_index)\n",
    "            x = self.bns[i](x)\n",
    "            x = F.relu(x)\n",
    "            x = F.dropout(x, p=self.dropout, training=self.training)\n",
    "\n",
    "        x = self.last_layer(x, edge_index)\n",
    "\n",
    "        if not self.return_embeds:\n",
    "            x = self.softmax(x)\n",
    "\n",
    "        return x\n"
   ]
  },
  {
   "cell_type": "code",
   "execution_count": 85,
   "metadata": {
    "id": "5WvgenKbegRx"
   },
   "outputs": [],
   "source": [
    "import torch\n",
    "import torch.nn.functional as F\n",
    "from torch_geometric.nn import GATConv\n",
    "\n",
    "class GAT(torch.nn.Module):\n",
    "    def __init__(self, input_dim, hidden_dim, output_dim, num_layers, dropout, heads, return_embeds=False):\n",
    "        super(GAT, self).__init__()\n",
    "\n",
    "        self.convs = torch.nn.ModuleList()\n",
    "        self.convs.append(GATConv(input_dim, hidden_dim, heads=heads))\n",
    "        for _ in range(num_layers - 1):\n",
    "            self.convs.append(GATConv(hidden_dim * heads, hidden_dim, heads=heads))  # 注意头数的设置\n",
    "\n",
    "        self.last_layer = GATConv(hidden_dim * heads, output_dim, heads=1)  # 输出层的头数通常为1\n",
    "\n",
    "        self.bns = torch.nn.ModuleList([torch.nn.BatchNorm1d(hidden_dim * heads) for _ in range(num_layers)])\n",
    "\n",
    "        self.softmax = torch.nn.LogSoftmax(dim=1)\n",
    "        self.dropout = dropout\n",
    "        self.return_embeds = return_embeds\n",
    "\n",
    "    def reset_parameters(self):\n",
    "        for conv in self.convs:\n",
    "            conv.reset_parameters()\n",
    "        for bn in self.bns:\n",
    "            bn.reset_parameters()\n",
    "\n",
    "    def forward(self, x, edge_index):\n",
    "        for i, conv in enumerate(self.convs):\n",
    "            x = conv(x, edge_index)\n",
    "            x = self.bns[i](x)\n",
    "            x = F.relu(x)\n",
    "            x = F.dropout(x, p=self.dropout, training=self.training)\n",
    "\n",
    "        x = self.last_layer(x, edge_index)\n",
    "\n",
    "        if not self.return_embeds:\n",
    "            x = self.softmax(x)\n",
    "\n",
    "        return x\n"
   ]
  },
  {
   "cell_type": "code",
   "execution_count": 86,
   "metadata": {
    "id": "49SReYU-egRx"
   },
   "outputs": [],
   "source": [
    "# from torch_geometric.nn import dense_diff_pool\n",
    "\n",
    "# class GCNWithDiffPool(torch.nn.Module):\n",
    "#     def __init__(self, num_features, hidden_dim, num_classes, num_layers, dropout):\n",
    "#         super(GCNWithDiffPool, self).__init__()\n",
    "\n",
    "#         # 确保至少有一层\n",
    "#         if num_layers < 1:\n",
    "#             raise ValueError(\"num_layers must be at least 1\")\n",
    "\n",
    "#         # 定义GCN层\n",
    "#         self.gcn_layers = torch.nn.ModuleList()\n",
    "#         self.gcn_layers.append(GCNConv(num_features, hidden_dim))\n",
    "#         for _ in range(num_layers - 1):\n",
    "#             self.gcn_layers.append(GCNConv(hidden_dim, hidden_dim))\n",
    "\n",
    "#         # 用于池化的全连接层\n",
    "#         self.pool = torch.nn.Linear(hidden_dim, hidden_dim // 2)\n",
    "\n",
    "#         # 分类层\n",
    "#         self.lin = torch.nn.Linear(hidden_dim, num_classes)\n",
    "\n",
    "#         self.dropout = dropout\n",
    "\n",
    "#     def forward(self, x, adj, mask=None):\n",
    "#         for gcn in self.gcn_layers:\n",
    "#             x = F.relu(gcn(x, adj))\n",
    "#             x = F.dropout(x, p=self.dropout, training=self.training)\n",
    "\n",
    "#         # 计算池化矩阵\n",
    "#         s = self.pool(x)\n",
    "#         s = torch.softmax(s, dim=1)\n",
    "\n",
    "#         # DiffPool\n",
    "#         x, adj, _, _ = dense_diff_pool(x, adj, s, mask)\n",
    "\n",
    "#         # 全连接层\n",
    "#         x = torch.mean(x, dim=1)\n",
    "#         x = self.lin(x)\n",
    "\n",
    "#         return F.log_softmax(x, dim=-1)"
   ]
  },
  {
   "cell_type": "code",
   "execution_count": 87,
   "metadata": {
    "id": "Bf8LK3apegRy"
   },
   "outputs": [],
   "source": [
    "import torch\n",
    "import torch.nn as nn\n",
    "import torch.nn.functional as F\n",
    "from torch_geometric.nn import GCNConv\n",
    "\n",
    "class GCNCNN(torch.nn.Module):\n",
    "    def __init__(self, input_dim, hidden_dim, output_dim, num_layers, dropout, return_embeds=False):\n",
    "        super(GCNCNN, self).__init__()\n",
    "\n",
    "        # GCNConv layers\n",
    "        self.convs = nn.ModuleList([GCNConv(input_dim, hidden_dim)] + [GCNConv(hidden_dim, hidden_dim) for _ in range(num_layers - 1)])\n",
    "\n",
    "        # 1D Convolution layers\n",
    "        self.conv1d_layers = nn.ModuleList([nn.Conv1d(hidden_dim, hidden_dim, kernel_size=1) for _ in range(num_layers)])\n",
    "\n",
    "        # Batch normalization layers\n",
    "        self.bns = nn.ModuleList([nn.BatchNorm1d(hidden_dim) for _ in range(num_layers)])\n",
    "\n",
    "        # Last GCNConv layer\n",
    "        self.last_layer = GCNConv(hidden_dim, output_dim)\n",
    "\n",
    "        # Other components\n",
    "        self.softmax = nn.LogSoftmax(dim=1)\n",
    "        self.dropout = dropout\n",
    "        self.return_embeds = return_embeds\n",
    "\n",
    "    def reset_parameters(self):\n",
    "        for conv in self.convs:\n",
    "            conv.reset_parameters()\n",
    "        for conv1d in self.conv1d_layers:\n",
    "            conv1d.reset_parameters()\n",
    "        for bn in self.bns:\n",
    "            bn.reset_parameters()\n",
    "\n",
    "    def forward(self, x, adj_t):\n",
    "        for i, conv in enumerate(self.convs):\n",
    "            x = conv(x, adj_t)\n",
    "            x = self.bns[i](x)\n",
    "            x = F.relu(x)\n",
    "            x = F.dropout(x, p=self.dropout, training=self.training)\n",
    "\n",
    "            # Reshape x for 1D convolution and apply 1D convolution\n",
    "            x_reshaped = x.unsqueeze(-1)  # Add an extra dimension for 1D convolution\n",
    "            x = self.conv1d_layers[i](x_reshaped).squeeze(-1)  # Remove the extra dimension after convolution\n",
    "\n",
    "        x = self.last_layer(x, adj_t)\n",
    "\n",
    "        if not self.return_embeds:\n",
    "            x = self.softmax(x)\n",
    "\n",
    "        return x\n"
   ]
  },
  {
   "cell_type": "code",
   "execution_count": 88,
   "metadata": {
    "id": "dVe2NnP5egRy"
   },
   "outputs": [],
   "source": [
    "# import torch\n",
    "# import torch.nn as nn\n",
    "# import torch.nn.functional as F\n",
    "# from torch_geometric.nn import GCNConv\n",
    "\n",
    "\n",
    "# class GCNII(nn.Module):\n",
    "#     def __init__(self, input_dim, hidden_dim, output_dim, num_layers, dropout, alpha, lamda, return_embeds=False):\n",
    "#         super(GCNII, self).__init__()\n",
    "\n",
    "#         self.alpha = alpha\n",
    "#         self.lamda = lamda\n",
    "#         self.num_layers = num_layers\n",
    "\n",
    "#         self.convs = nn.ModuleList([GCNConv(input_dim, hidden_dim)] + [GCNConv(hidden_dim, hidden_dim) for _ in range(num_layers - 1)])\n",
    "#         self.bns = nn.ModuleList([nn.BatchNorm1d(hidden_dim) for _ in range(num_layers)])\n",
    "#         self.last_layer = GCNConv(hidden_dim, output_dim)\n",
    "#         self.softmax = nn.LogSoftmax(dim=1)\n",
    "#         self.dropout = dropout\n",
    "#         self.return_embeds = return_embeds\n",
    "\n",
    "#     def reset_parameters(self):\n",
    "#         for conv in self.convs:\n",
    "#             conv.reset_parameters()\n",
    "#         for bn in self.bns:\n",
    "#             bn.reset_parameters()\n",
    "\n",
    "#     def forward(self, x, adj_t):\n",
    "#         h0 = x\n",
    "#         for i, conv in enumerate(self.convs):\n",
    "#             h = conv(x, adj_t)\n",
    "#             h = self.bns[i](h)\n",
    "#             h = F.relu(h)\n",
    "#             h = F.dropout(h, p=self.dropout, training=self.training)\n",
    "#             theta = math.log(self.lamda / (i + 1) + 1)\n",
    "#             r = (1 - self.alpha) * h + self.alpha * h0\n",
    "#             x = theta * r + (1 - theta) * h\n",
    "\n",
    "#         x = self.last_layer(x, adj_t)\n",
    "\n",
    "#         if not self.return_embeds:\n",
    "#             x = self.softmax(x)\n",
    "\n",
    "#         return x\n",
    "\n",
    "import torch\n",
    "import torch.nn as nn\n",
    "import torch.nn.functional as F\n",
    "from torch_geometric.nn import GCNConv\n",
    "import math\n",
    "\n",
    "class GCNII(nn.Module):\n",
    "    def __init__(self, input_dim, hidden_dim, output_dim, num_layers, dropout, alpha, lamda, return_embeds=True):\n",
    "        super(GCNII, self).__init__()\n",
    "\n",
    "        self.alpha = alpha\n",
    "        self.lamda = lamda\n",
    "        self.num_layers = num_layers\n",
    "\n",
    "        # Graph Convolution layers\n",
    "        self.convs = nn.ModuleList([GCNConv(input_dim, hidden_dim)] + [GCNConv(hidden_dim, hidden_dim) for _ in range(num_layers - 1)])\n",
    "\n",
    "        # Batch normalization layers\n",
    "        self.bns = nn.ModuleList([nn.BatchNorm1d(hidden_dim) for _ in range(num_layers)])\n",
    "\n",
    "        # 1D Convolution layers\n",
    "        self.conv1d_layers = nn.ModuleList([nn.Conv1d(in_channels=hidden_dim, out_channels=hidden_dim, kernel_size=1) for _ in range(num_layers)])\n",
    "\n",
    "        # Last Graph Convolution layer\n",
    "        self.last_layer = GCNConv(hidden_dim, output_dim)\n",
    "\n",
    "        # LogSoftmax layer\n",
    "        self.softmax = nn.LogSoftmax(dim=1)\n",
    "\n",
    "        # Dropout rate\n",
    "        self.dropout = dropout\n",
    "\n",
    "        # Whether to return embeddings\n",
    "        self.return_embeds = return_embeds\n",
    "\n",
    "    def reset_parameters(self):\n",
    "        for conv in self.convs:\n",
    "            conv.reset_parameters()\n",
    "        for bn in self.bns:\n",
    "            bn.reset_parameters()\n",
    "        for conv1d in self.conv1d_layers:\n",
    "            conv1d.reset_parameters()\n",
    "\n",
    "    def forward(self, x, adj_t):\n",
    "        h0 = x\n",
    "        h_prev = x\n",
    "        for i, (conv, conv1d) in enumerate(zip(self.convs, self.conv1d_layers)):\n",
    "            h = conv(x, adj_t)\n",
    "            h = self.bns[i](h)\n",
    "            h = F.relu(h)\n",
    "            h = F.dropout(h, p=self.dropout, training=self.training)\n",
    "\n",
    "            # Apply 1D convolution\n",
    "            h = h.unsqueeze(2)\n",
    "            h = conv1d(h).squeeze(2)\n",
    "\n",
    "            theta = math.log(self.lamda / (i + 1) + 1)\n",
    "            r = (1 - self.alpha) * h + self.alpha * h0\n",
    "            x = theta * r + (1 - theta) * h\n",
    "            #x = r\n",
    "            # Residual connection from the previous layer\n",
    "            x = x + h_prev\n",
    "            h_prev = x\n",
    "\n",
    "        x = self.last_layer(x, adj_t)\n",
    "\n",
    "        if not self.return_embeds:\n",
    "            x = self.softmax(x)\n",
    "\n",
    "        return x\n",
    "\n"
   ]
  },
  {
   "cell_type": "code",
   "execution_count": 89,
   "metadata": {
    "id": "X4yP8uxeegRy"
   },
   "outputs": [],
   "source": [
    "import torch\n",
    "import torch.nn as nn\n",
    "import torch.nn.functional as F\n",
    "from torch_geometric.nn import GCNConv\n",
    "from torch_geometric.nn import GATConv\n",
    "\n",
    "\n",
    "class GATII(nn.Module):\n",
    "    def __init__(self, input_dim, hidden_dim, output_dim, num_layers, dropout, alpha, lamda, return_embeds=False):\n",
    "        super(GATII, self).__init__()\n",
    "\n",
    "        self.alpha = alpha\n",
    "        self.lamda = lamda\n",
    "        self.num_layers = num_layers\n",
    "\n",
    "        self.convs = nn.ModuleList([GATConv(input_dim, hidden_dim)] + [GATConv(hidden_dim, hidden_dim) for _ in range(num_layers - 1)])\n",
    "        self.bns = nn.ModuleList([nn.BatchNorm1d(hidden_dim) for _ in range(num_layers)])\n",
    "        self.last_layer = GATConv(hidden_dim, output_dim)\n",
    "        self.softmax = nn.LogSoftmax(dim=1)\n",
    "        self.dropout = dropout\n",
    "        self.return_embeds = return_embeds\n",
    "\n",
    "    def reset_parameters(self):\n",
    "        for conv in self.convs:\n",
    "            conv.reset_parameters()\n",
    "        for bn in self.bns:\n",
    "            bn.reset_parameters()\n",
    "\n",
    "    def forward(self, x, adj_t):\n",
    "        h0 = x\n",
    "        for i, conv in enumerate(self.convs):\n",
    "            h = conv(x, adj_t)\n",
    "            h = self.bns[i](h)\n",
    "            h = F.relu(h)\n",
    "            h = F.dropout(h, p=self.dropout, training=self.training)\n",
    "            theta = math.log(self.lamda / (i + 1) + 1)\n",
    "            r = (1 - self.alpha) * h + self.alpha * h0\n",
    "            x = theta * r + (1 - theta) * h\n",
    "\n",
    "        x = self.last_layer(x, adj_t)\n",
    "\n",
    "        if not self.return_embeds:\n",
    "            x = self.softmax(x)\n",
    "\n",
    "        return x"
   ]
  },
  {
   "cell_type": "code",
   "execution_count": 90,
   "metadata": {
    "id": "kv8FysMPTpy5"
   },
   "outputs": [],
   "source": [
    "def train(model, data, train_idx, optimizer, loss_fn):\n",
    "    model.train()\n",
    "    loss = 0\n",
    "\n",
    "    optimizer.zero_grad()  # Clear gradients.\n",
    "    out = model(data.x, data.adj_t)  # Perform a single forward pass.\n",
    "    madgap = mad_gap(out, data.edge_index)\n",
    "    loss = loss_fn(out[train_idx], sub_graph.y[train_idx].reshape(-1))\n",
    "\n",
    "    loss.backward()\n",
    "    optimizer.step()\n",
    "\n",
    "    return loss.item(), madgap"
   ]
  },
  {
   "cell_type": "code",
   "execution_count": 91,
   "metadata": {
    "id": "cTjUhE2wT4sV"
   },
   "outputs": [],
   "source": [
    "# Test function here\n",
    "@torch.no_grad()\n",
    "def test(model, data, split_idx, evaluator, save_model_results=False):\n",
    "    model.eval()\n",
    "\n",
    "    # The output of model on all data\n",
    "    out = model(data.x, data.adj_t)\n",
    "\n",
    "    y_pred = out.argmax(dim=-1, keepdim=True)\n",
    "\n",
    "    train_acc = evaluator.eval({\n",
    "        'y_true': data.y[split_idx['train']],\n",
    "        'y_pred': y_pred[split_idx['train']],\n",
    "    })['acc']\n",
    "    valid_acc = evaluator.eval({\n",
    "        'y_true': data.y[split_idx['valid']],\n",
    "        'y_pred': y_pred[split_idx['valid']],\n",
    "    })['acc']\n",
    "    test_acc = evaluator.eval({\n",
    "        'y_true': data.y[split_idx['test']],\n",
    "        'y_pred': y_pred[split_idx['test']],\n",
    "    })['acc']\n",
    "\n",
    "    if save_model_results:\n",
    "      print (\"Saving Model Predictions\")\n",
    "\n",
    "      data = {}\n",
    "      data['y_pred'] = y_pred.view(-1).cpu().detach().numpy()\n",
    "\n",
    "      df = pd.DataFrame(data=data)\n",
    "      # Save locally as csv\n",
    "      df.to_csv('ogbn-arxiv_node.csv', sep=',', index=False)\n",
    "\n",
    "\n",
    "    return train_acc, valid_acc, test_acc"
   ]
  },
  {
   "cell_type": "code",
   "execution_count": 92,
   "metadata": {
    "id": "SsxkaXC3egRy"
   },
   "outputs": [],
   "source": [
    "args = {\n",
    "    'device': device,\n",
    "    'num_layers': 4,\n",
    "    'hidden_dim': 100,\n",
    "    'dropout': 0.5,\n",
    "    'lr': 0.001,\n",
    "    'epochs': 200,\n",
    "    'theta' : 0.1,\n",
    "    'lamda' : 0.1,\n",
    "}"
   ]
  },
  {
   "cell_type": "markdown",
   "metadata": {
    "id": "urYP8e2hLrpD"
   },
   "source": [
    "# Select your model"
   ]
  },
  {
   "cell_type": "code",
   "execution_count": 93,
   "metadata": {
    "id": "UUhV70xiUhKc"
   },
   "outputs": [],
   "source": [
    "model = GCN(sub_graph.num_features, args['hidden_dim'],\n",
    "            dataset.num_classes, args['num_layers'],\n",
    "            args['dropout']).to(device)\n",
    "evaluator = Evaluator(name='ogbn-products')"
   ]
  },
  {
   "cell_type": "code",
   "execution_count": 51,
   "metadata": {
    "id": "GkUgkx2SegRy"
   },
   "outputs": [],
   "source": [
    "model = ResGCN(sub_graph.num_features, args['hidden_dim'],\n",
    "            dataset.num_classes, args['num_layers'],\n",
    "            args['dropout']).to(device)\n",
    "evaluator = Evaluator(name='ogbn-products')"
   ]
  },
  {
   "cell_type": "code",
   "execution_count": 33,
   "metadata": {
    "id": "8_zWACG6egRy"
   },
   "outputs": [],
   "source": [
    "model = GraphSAGE(sub_graph.num_features, args['hidden_dim'],\n",
    "            dataset.num_classes, args['num_layers'],\n",
    "            args['dropout']).to(device)\n",
    "evaluator = Evaluator(name='ogbn-products')"
   ]
  },
  {
   "cell_type": "code",
   "execution_count": 45,
   "metadata": {
    "id": "uQU16FwgegRy"
   },
   "outputs": [],
   "source": [
    "model = GCNII(sub_graph.num_features, args['hidden_dim'],\n",
    "            dataset.num_classes, args['num_layers'],\n",
    "            args['dropout'], args['theta'], args['lamda']).to(device)\n",
    "evaluator = Evaluator(name='ogbn-products')"
   ]
  },
  {
   "cell_type": "code",
   "execution_count": null,
   "metadata": {
    "id": "sCEMPV8TegRy"
   },
   "outputs": [],
   "source": [
    "model = GATII(sub_graph.num_features, args['hidden_dim'],\n",
    "            dataset.num_classes, args['num_layers'],\n",
    "            args['dropout'], args['theta'], args['lamda']).to(device)\n",
    "evaluator = Evaluator(name='ogbn-products')"
   ]
  },
  {
   "cell_type": "code",
   "execution_count": 60,
   "metadata": {
    "id": "3AEo95XiegRz"
   },
   "outputs": [],
   "source": [
    "model = GCNCNN(sub_graph.num_features, args['hidden_dim'],\n",
    "            dataset.num_classes, args['num_layers'],\n",
    "            args['dropout']).to(device)\n",
    "evaluator = Evaluator(name='ogbn-products')"
   ]
  },
  {
   "cell_type": "code",
   "execution_count": null,
   "metadata": {
    "id": "bxLH3PVMegRz"
   },
   "outputs": [],
   "source": [
    "hidden_channels = 200\n",
    "num_features = 100\n",
    "num_classes = dataset.num_classes\n",
    "\n",
    "#model = GCN(num_features, hidden_channels, num_classes).to(device)\n",
    "model = GCAN(num_features, hidden_channels, num_classes).to(device)\n",
    "evaluator = Evaluator(name='ogbn-products')"
   ]
  },
  {
   "cell_type": "code",
   "execution_count": 29,
   "metadata": {
    "id": "K-lpXNE5egRz"
   },
   "outputs": [],
   "source": [
    "model = GAT(sub_graph.num_features, args['hidden_dim'],\n",
    "            dataset.num_classes, args['num_layers'] - 2,\n",
    "            args['dropout'], 2\n",
    "            ).to(device)\n",
    "evaluator = Evaluator(name='ogbn-products')"
   ]
  },
  {
   "cell_type": "code",
   "execution_count": 94,
   "metadata": {
    "colab": {
     "base_uri": "https://localhost:8080/"
    },
    "id": "490QiSqkegRz",
    "outputId": "0ae8849b-da9b-43b3-bcb8-ea9f5a932042"
   },
   "outputs": [
    {
     "name": "stdout",
     "output_type": "stream",
     "text": [
      "Number of parameters : 45947\n"
     ]
    }
   ],
   "source": [
    "num_params = sum(p.numel() for p in model.parameters())\n",
    "print(f\"Number of parameters : {num_params}\")"
   ]
  },
  {
   "cell_type": "markdown",
   "metadata": {
    "id": "WeoUUVvZLyEJ"
   },
   "source": [
    "# Train and test"
   ]
  },
  {
   "cell_type": "code",
   "execution_count": 95,
   "metadata": {
    "colab": {
     "base_uri": "https://localhost:8080/"
    },
    "id": "GQblrAdGUkE9",
    "outputId": "10761fc0-4301-4b99-8fba-7f40aa0a3a00"
   },
   "outputs": [
    {
     "name": "stderr",
     "output_type": "stream",
     "text": [
      "/usr/local/lib/python3.10/dist-packages/torch/nn/modules/module.py:1518: UserWarning: Implicit dimension choice for log_softmax has been deprecated. Change the call to include dim=X as an argument.\n",
      "  return self._call_impl(*args, **kwargs)\n"
     ]
    },
    {
     "name": "stdout",
     "output_type": "stream",
     "text": [
      "Epoch: 01, Mad: 0.0705, Loss: 4.0927, Train: 5.33%, Valid: 5.20% Test: 5.14%\n",
      "Epoch: 02, Mad: 0.0703, Loss: 3.9474, Train: 6.33%, Valid: 6.18% Test: 6.08%\n",
      "Epoch: 03, Mad: 0.0698, Loss: 3.8018, Train: 10.54%, Valid: 10.50% Test: 10.46%\n",
      "Epoch: 04, Mad: 0.0737, Loss: 3.6895, Train: 17.35%, Valid: 17.16% Test: 17.25%\n",
      "Epoch: 05, Mad: 0.0727, Loss: 3.5528, Train: 24.24%, Valid: 24.42% Test: 24.19%\n",
      "Epoch: 06, Mad: 0.0746, Loss: 3.4342, Train: 29.36%, Valid: 29.18% Test: 29.26%\n",
      "Epoch: 07, Mad: 0.0796, Loss: 3.2946, Train: 34.06%, Valid: 33.62% Test: 34.11%\n",
      "Epoch: 08, Mad: 0.0794, Loss: 3.2011, Train: 41.15%, Valid: 40.32% Test: 41.25%\n",
      "Epoch: 09, Mad: 0.0796, Loss: 3.0955, Train: 48.31%, Valid: 47.26% Test: 48.25%\n",
      "Epoch: 10, Mad: 0.0849, Loss: 2.9697, Train: 52.89%, Valid: 52.46% Test: 53.15%\n",
      "Epoch: 11, Mad: 0.0840, Loss: 2.8783, Train: 56.03%, Valid: 55.44% Test: 56.09%\n",
      "Epoch: 12, Mad: 0.0848, Loss: 2.7702, Train: 58.40%, Valid: 58.08% Test: 58.37%\n",
      "Epoch: 13, Mad: 0.0847, Loss: 2.6708, Train: 60.32%, Valid: 60.34% Test: 60.17%\n",
      "Epoch: 14, Mad: 0.0842, Loss: 2.5804, Train: 62.10%, Valid: 62.16% Test: 61.91%\n",
      "Epoch: 15, Mad: 0.0850, Loss: 2.4751, Train: 63.60%, Valid: 63.74% Test: 63.33%\n",
      "Epoch: 16, Mad: 0.0852, Loss: 2.3794, Train: 65.00%, Valid: 65.18% Test: 64.89%\n",
      "Epoch: 17, Mad: 0.0837, Loss: 2.2972, Train: 66.33%, Valid: 66.50% Test: 66.16%\n",
      "Epoch: 18, Mad: 0.0834, Loss: 2.2164, Train: 67.59%, Valid: 67.98% Test: 67.38%\n",
      "Epoch: 19, Mad: 0.0825, Loss: 2.1167, Train: 68.67%, Valid: 69.10% Test: 68.53%\n",
      "Epoch: 20, Mad: 0.0803, Loss: 2.0409, Train: 69.58%, Valid: 70.30% Test: 69.35%\n",
      "Epoch: 21, Mad: 0.0794, Loss: 1.9521, Train: 70.40%, Valid: 71.28% Test: 70.19%\n",
      "Epoch: 22, Mad: 0.0777, Loss: 1.8964, Train: 71.12%, Valid: 71.86% Test: 70.78%\n",
      "Epoch: 23, Mad: 0.0759, Loss: 1.8241, Train: 71.82%, Valid: 72.66% Test: 71.51%\n",
      "Epoch: 24, Mad: 0.0747, Loss: 1.7436, Train: 72.39%, Valid: 73.08% Test: 72.17%\n",
      "Epoch: 25, Mad: 0.0727, Loss: 1.6840, Train: 72.97%, Valid: 73.74% Test: 72.94%\n",
      "Epoch: 26, Mad: 0.0715, Loss: 1.6352, Train: 73.56%, Valid: 74.50% Test: 73.58%\n",
      "Epoch: 27, Mad: 0.0701, Loss: 1.5863, Train: 74.22%, Valid: 75.14% Test: 74.11%\n",
      "Epoch: 28, Mad: 0.0686, Loss: 1.5274, Train: 74.78%, Valid: 75.86% Test: 74.72%\n",
      "Epoch: 29, Mad: 0.0669, Loss: 1.4715, Train: 75.29%, Valid: 76.46% Test: 75.25%\n",
      "Epoch: 30, Mad: 0.0663, Loss: 1.4225, Train: 75.78%, Valid: 76.72% Test: 75.73%\n",
      "Epoch: 31, Mad: 0.0648, Loss: 1.3974, Train: 76.16%, Valid: 77.08% Test: 76.19%\n",
      "Epoch: 32, Mad: 0.0640, Loss: 1.3534, Train: 76.60%, Valid: 77.30% Test: 76.61%\n",
      "Epoch: 33, Mad: 0.0629, Loss: 1.3233, Train: 76.90%, Valid: 77.50% Test: 76.97%\n",
      "Epoch: 34, Mad: 0.0618, Loss: 1.2873, Train: 77.09%, Valid: 77.64% Test: 77.08%\n",
      "Epoch: 35, Mad: 0.0610, Loss: 1.2601, Train: 77.27%, Valid: 77.64% Test: 77.34%\n",
      "Epoch: 36, Mad: 0.0604, Loss: 1.2246, Train: 77.47%, Valid: 77.68% Test: 77.44%\n",
      "Epoch: 37, Mad: 0.0596, Loss: 1.2016, Train: 77.66%, Valid: 77.80% Test: 77.54%\n",
      "Epoch: 38, Mad: 0.0589, Loss: 1.1778, Train: 77.89%, Valid: 78.04% Test: 77.77%\n",
      "Epoch: 39, Mad: 0.0586, Loss: 1.1572, Train: 78.19%, Valid: 78.34% Test: 78.07%\n",
      "Epoch: 40, Mad: 0.0577, Loss: 1.1293, Train: 78.57%, Valid: 78.70% Test: 78.39%\n",
      "Epoch: 41, Mad: 0.0570, Loss: 1.1043, Train: 79.06%, Valid: 79.06% Test: 78.91%\n",
      "Epoch: 42, Mad: 0.0564, Loss: 1.0869, Train: 79.50%, Valid: 79.60% Test: 79.32%\n",
      "Epoch: 43, Mad: 0.0561, Loss: 1.0707, Train: 79.96%, Valid: 80.10% Test: 79.87%\n",
      "Epoch: 44, Mad: 0.0555, Loss: 1.0533, Train: 80.42%, Valid: 80.42% Test: 80.43%\n",
      "Epoch: 45, Mad: 0.0553, Loss: 1.0362, Train: 80.83%, Valid: 80.80% Test: 80.80%\n",
      "Epoch: 46, Mad: 0.0550, Loss: 1.0127, Train: 81.15%, Valid: 81.16% Test: 81.14%\n",
      "Epoch: 47, Mad: 0.0546, Loss: 0.9990, Train: 81.39%, Valid: 81.38% Test: 81.38%\n",
      "Epoch: 48, Mad: 0.0542, Loss: 0.9838, Train: 81.65%, Valid: 81.64% Test: 81.64%\n",
      "Epoch: 49, Mad: 0.0542, Loss: 0.9761, Train: 81.84%, Valid: 81.76% Test: 81.81%\n",
      "Epoch: 50, Mad: 0.0538, Loss: 0.9624, Train: 81.99%, Valid: 81.76% Test: 81.97%\n",
      "Epoch: 51, Mad: 0.0537, Loss: 0.9442, Train: 82.16%, Valid: 81.96% Test: 82.08%\n",
      "Epoch: 52, Mad: 0.0534, Loss: 0.9309, Train: 82.30%, Valid: 82.06% Test: 82.20%\n",
      "Epoch: 53, Mad: 0.0533, Loss: 0.9238, Train: 82.42%, Valid: 82.24% Test: 82.38%\n",
      "Epoch: 54, Mad: 0.0532, Loss: 0.9112, Train: 82.50%, Valid: 82.42% Test: 82.50%\n",
      "Epoch: 55, Mad: 0.0533, Loss: 0.8962, Train: 82.66%, Valid: 82.58% Test: 82.57%\n",
      "Epoch: 56, Mad: 0.0530, Loss: 0.8861, Train: 82.78%, Valid: 82.66% Test: 82.72%\n",
      "Epoch: 57, Mad: 0.0530, Loss: 0.8784, Train: 82.90%, Valid: 82.78% Test: 82.79%\n",
      "Epoch: 58, Mad: 0.0532, Loss: 0.8655, Train: 83.02%, Valid: 82.98% Test: 82.91%\n",
      "Epoch: 59, Mad: 0.0527, Loss: 0.8636, Train: 83.16%, Valid: 83.12% Test: 83.05%\n",
      "Epoch: 60, Mad: 0.0528, Loss: 0.8511, Train: 83.29%, Valid: 83.10% Test: 83.16%\n",
      "Epoch: 61, Mad: 0.0528, Loss: 0.8404, Train: 83.43%, Valid: 83.32% Test: 83.27%\n",
      "Epoch: 62, Mad: 0.0528, Loss: 0.8333, Train: 83.59%, Valid: 83.50% Test: 83.44%\n",
      "Epoch: 63, Mad: 0.0527, Loss: 0.8221, Train: 83.72%, Valid: 83.60% Test: 83.55%\n",
      "Epoch: 64, Mad: 0.0526, Loss: 0.8124, Train: 83.83%, Valid: 83.70% Test: 83.67%\n",
      "Epoch: 65, Mad: 0.0530, Loss: 0.8119, Train: 84.00%, Valid: 83.94% Test: 83.85%\n",
      "Epoch: 66, Mad: 0.0526, Loss: 0.8002, Train: 84.12%, Valid: 84.02% Test: 84.00%\n",
      "Epoch: 67, Mad: 0.0527, Loss: 0.7963, Train: 84.22%, Valid: 84.14% Test: 84.14%\n",
      "Epoch: 68, Mad: 0.0525, Loss: 0.7887, Train: 84.32%, Valid: 84.30% Test: 84.23%\n",
      "Epoch: 69, Mad: 0.0526, Loss: 0.7838, Train: 84.45%, Valid: 84.36% Test: 84.42%\n",
      "Epoch: 70, Mad: 0.0528, Loss: 0.7736, Train: 84.55%, Valid: 84.44% Test: 84.51%\n",
      "Epoch: 71, Mad: 0.0526, Loss: 0.7709, Train: 84.67%, Valid: 84.48% Test: 84.64%\n",
      "Epoch: 72, Mad: 0.0530, Loss: 0.7598, Train: 84.79%, Valid: 84.54% Test: 84.75%\n",
      "Epoch: 73, Mad: 0.0530, Loss: 0.7575, Train: 84.87%, Valid: 84.66% Test: 84.83%\n",
      "Epoch: 74, Mad: 0.0528, Loss: 0.7539, Train: 84.99%, Valid: 84.78% Test: 84.91%\n",
      "Epoch: 75, Mad: 0.0529, Loss: 0.7498, Train: 85.07%, Valid: 84.88% Test: 84.99%\n",
      "Epoch: 76, Mad: 0.0528, Loss: 0.7425, Train: 85.17%, Valid: 84.98% Test: 85.11%\n",
      "Epoch: 77, Mad: 0.0530, Loss: 0.7351, Train: 85.24%, Valid: 85.04% Test: 85.17%\n",
      "Epoch: 78, Mad: 0.0530, Loss: 0.7335, Train: 85.32%, Valid: 85.16% Test: 85.23%\n",
      "Epoch: 79, Mad: 0.0527, Loss: 0.7286, Train: 85.39%, Valid: 85.26% Test: 85.27%\n",
      "Epoch: 80, Mad: 0.0531, Loss: 0.7224, Train: 85.45%, Valid: 85.38% Test: 85.33%\n",
      "Epoch: 81, Mad: 0.0529, Loss: 0.7171, Train: 85.50%, Valid: 85.48% Test: 85.37%\n",
      "Epoch: 82, Mad: 0.0533, Loss: 0.7162, Train: 85.59%, Valid: 85.50% Test: 85.49%\n",
      "Epoch: 83, Mad: 0.0534, Loss: 0.7077, Train: 85.64%, Valid: 85.58% Test: 85.56%\n",
      "Epoch: 84, Mad: 0.0534, Loss: 0.7043, Train: 85.69%, Valid: 85.60% Test: 85.61%\n",
      "Epoch: 85, Mad: 0.0532, Loss: 0.7021, Train: 85.74%, Valid: 85.78% Test: 85.68%\n",
      "Epoch: 86, Mad: 0.0533, Loss: 0.6973, Train: 85.83%, Valid: 85.80% Test: 85.77%\n",
      "Epoch: 87, Mad: 0.0532, Loss: 0.6918, Train: 85.89%, Valid: 85.90% Test: 85.80%\n",
      "Epoch: 88, Mad: 0.0534, Loss: 0.6895, Train: 85.95%, Valid: 86.00% Test: 85.84%\n",
      "Epoch: 89, Mad: 0.0536, Loss: 0.6879, Train: 86.00%, Valid: 86.02% Test: 85.93%\n",
      "Epoch: 90, Mad: 0.0535, Loss: 0.6865, Train: 86.06%, Valid: 86.06% Test: 85.99%\n",
      "Epoch: 91, Mad: 0.0532, Loss: 0.6798, Train: 86.13%, Valid: 86.12% Test: 86.09%\n",
      "Epoch: 92, Mad: 0.0536, Loss: 0.6775, Train: 86.19%, Valid: 86.14% Test: 86.11%\n",
      "Epoch: 93, Mad: 0.0535, Loss: 0.6742, Train: 86.25%, Valid: 86.30% Test: 86.18%\n",
      "Epoch: 94, Mad: 0.0534, Loss: 0.6681, Train: 86.31%, Valid: 86.36% Test: 86.19%\n",
      "Epoch: 95, Mad: 0.0540, Loss: 0.6702, Train: 86.37%, Valid: 86.40% Test: 86.23%\n",
      "Epoch: 96, Mad: 0.0540, Loss: 0.6616, Train: 86.41%, Valid: 86.42% Test: 86.24%\n",
      "Epoch: 97, Mad: 0.0538, Loss: 0.6631, Train: 86.43%, Valid: 86.44% Test: 86.27%\n",
      "Epoch: 98, Mad: 0.0537, Loss: 0.6571, Train: 86.49%, Valid: 86.48% Test: 86.32%\n",
      "Epoch: 99, Mad: 0.0540, Loss: 0.6546, Train: 86.52%, Valid: 86.42% Test: 86.33%\n",
      "Epoch: 100, Mad: 0.0538, Loss: 0.6528, Train: 86.57%, Valid: 86.44% Test: 86.36%\n",
      "Epoch: 101, Mad: 0.0536, Loss: 0.6528, Train: 86.62%, Valid: 86.50% Test: 86.37%\n",
      "Epoch: 102, Mad: 0.0539, Loss: 0.6465, Train: 86.64%, Valid: 86.56% Test: 86.42%\n",
      "Epoch: 103, Mad: 0.0540, Loss: 0.6488, Train: 86.68%, Valid: 86.56% Test: 86.45%\n",
      "Epoch: 104, Mad: 0.0541, Loss: 0.6485, Train: 86.70%, Valid: 86.62% Test: 86.45%\n",
      "Epoch: 105, Mad: 0.0541, Loss: 0.6449, Train: 86.75%, Valid: 86.60% Test: 86.48%\n",
      "Epoch: 106, Mad: 0.0540, Loss: 0.6360, Train: 86.78%, Valid: 86.58% Test: 86.51%\n",
      "Epoch: 107, Mad: 0.0542, Loss: 0.6330, Train: 86.81%, Valid: 86.62% Test: 86.54%\n",
      "Epoch: 108, Mad: 0.0541, Loss: 0.6337, Train: 86.83%, Valid: 86.64% Test: 86.56%\n",
      "Epoch: 109, Mad: 0.0543, Loss: 0.6300, Train: 86.86%, Valid: 86.68% Test: 86.61%\n",
      "Epoch: 110, Mad: 0.0542, Loss: 0.6293, Train: 86.90%, Valid: 86.82% Test: 86.65%\n",
      "Epoch: 111, Mad: 0.0542, Loss: 0.6268, Train: 86.91%, Valid: 86.88% Test: 86.68%\n",
      "Epoch: 112, Mad: 0.0543, Loss: 0.6227, Train: 86.92%, Valid: 86.88% Test: 86.70%\n",
      "Epoch: 113, Mad: 0.0543, Loss: 0.6258, Train: 86.95%, Valid: 87.00% Test: 86.71%\n",
      "Epoch: 114, Mad: 0.0543, Loss: 0.6222, Train: 86.97%, Valid: 86.98% Test: 86.71%\n",
      "Epoch: 115, Mad: 0.0545, Loss: 0.6189, Train: 86.98%, Valid: 87.02% Test: 86.73%\n",
      "Epoch: 116, Mad: 0.0546, Loss: 0.6185, Train: 86.98%, Valid: 87.04% Test: 86.74%\n",
      "Epoch: 117, Mad: 0.0542, Loss: 0.6128, Train: 86.97%, Valid: 87.02% Test: 86.72%\n",
      "Epoch: 118, Mad: 0.0544, Loss: 0.6102, Train: 86.97%, Valid: 87.04% Test: 86.70%\n",
      "Epoch: 119, Mad: 0.0544, Loss: 0.6106, Train: 86.99%, Valid: 87.14% Test: 86.73%\n",
      "Epoch: 120, Mad: 0.0542, Loss: 0.6106, Train: 87.00%, Valid: 87.18% Test: 86.74%\n",
      "Epoch: 121, Mad: 0.0545, Loss: 0.6081, Train: 87.02%, Valid: 87.14% Test: 86.75%\n",
      "Epoch: 122, Mad: 0.0549, Loss: 0.6054, Train: 87.06%, Valid: 87.16% Test: 86.81%\n",
      "Epoch: 123, Mad: 0.0544, Loss: 0.6057, Train: 87.09%, Valid: 87.16% Test: 86.86%\n",
      "Epoch: 124, Mad: 0.0548, Loss: 0.6012, Train: 87.14%, Valid: 87.18% Test: 86.89%\n",
      "Epoch: 125, Mad: 0.0546, Loss: 0.6063, Train: 87.16%, Valid: 87.16% Test: 86.88%\n",
      "Epoch: 126, Mad: 0.0549, Loss: 0.5987, Train: 87.18%, Valid: 87.20% Test: 86.87%\n",
      "Epoch: 127, Mad: 0.0550, Loss: 0.5923, Train: 87.19%, Valid: 87.24% Test: 86.86%\n",
      "Epoch: 128, Mad: 0.0549, Loss: 0.5947, Train: 87.22%, Valid: 87.24% Test: 86.87%\n",
      "Epoch: 129, Mad: 0.0549, Loss: 0.5942, Train: 87.24%, Valid: 87.26% Test: 86.91%\n",
      "Epoch: 130, Mad: 0.0552, Loss: 0.5896, Train: 87.26%, Valid: 87.32% Test: 86.92%\n",
      "Epoch: 131, Mad: 0.0551, Loss: 0.5918, Train: 87.27%, Valid: 87.32% Test: 86.92%\n",
      "Epoch: 132, Mad: 0.0551, Loss: 0.5867, Train: 87.30%, Valid: 87.40% Test: 86.94%\n",
      "Epoch: 133, Mad: 0.0552, Loss: 0.5879, Train: 87.31%, Valid: 87.42% Test: 86.96%\n",
      "Epoch: 134, Mad: 0.0554, Loss: 0.5846, Train: 87.31%, Valid: 87.40% Test: 87.02%\n",
      "Epoch: 135, Mad: 0.0552, Loss: 0.5834, Train: 87.31%, Valid: 87.44% Test: 87.02%\n",
      "Epoch: 136, Mad: 0.0552, Loss: 0.5835, Train: 87.31%, Valid: 87.46% Test: 87.05%\n",
      "Epoch: 137, Mad: 0.0552, Loss: 0.5821, Train: 87.31%, Valid: 87.50% Test: 87.09%\n",
      "Epoch: 138, Mad: 0.0551, Loss: 0.5789, Train: 87.32%, Valid: 87.56% Test: 87.07%\n",
      "Epoch: 139, Mad: 0.0550, Loss: 0.5797, Train: 87.33%, Valid: 87.56% Test: 87.10%\n",
      "Epoch: 140, Mad: 0.0554, Loss: 0.5794, Train: 87.36%, Valid: 87.62% Test: 87.15%\n",
      "Epoch: 141, Mad: 0.0554, Loss: 0.5787, Train: 87.39%, Valid: 87.62% Test: 87.12%\n",
      "Epoch: 142, Mad: 0.0554, Loss: 0.5797, Train: 87.43%, Valid: 87.66% Test: 87.16%\n",
      "Epoch: 143, Mad: 0.0556, Loss: 0.5729, Train: 87.45%, Valid: 87.66% Test: 87.18%\n",
      "Epoch: 144, Mad: 0.0555, Loss: 0.5749, Train: 87.45%, Valid: 87.68% Test: 87.22%\n",
      "Epoch: 145, Mad: 0.0556, Loss: 0.5699, Train: 87.46%, Valid: 87.68% Test: 87.23%\n",
      "Epoch: 146, Mad: 0.0556, Loss: 0.5716, Train: 87.47%, Valid: 87.74% Test: 87.25%\n",
      "Epoch: 147, Mad: 0.0560, Loss: 0.5684, Train: 87.50%, Valid: 87.74% Test: 87.27%\n",
      "Epoch: 148, Mad: 0.0557, Loss: 0.5667, Train: 87.52%, Valid: 87.76% Test: 87.27%\n",
      "Epoch: 149, Mad: 0.0558, Loss: 0.5713, Train: 87.50%, Valid: 87.74% Test: 87.29%\n",
      "Epoch: 150, Mad: 0.0556, Loss: 0.5674, Train: 87.53%, Valid: 87.78% Test: 87.32%\n",
      "Epoch: 151, Mad: 0.0558, Loss: 0.5652, Train: 87.54%, Valid: 87.74% Test: 87.37%\n",
      "Epoch: 152, Mad: 0.0558, Loss: 0.5666, Train: 87.55%, Valid: 87.78% Test: 87.39%\n",
      "Epoch: 153, Mad: 0.0560, Loss: 0.5613, Train: 87.56%, Valid: 87.84% Test: 87.38%\n",
      "Epoch: 154, Mad: 0.0558, Loss: 0.5648, Train: 87.57%, Valid: 87.88% Test: 87.40%\n",
      "Epoch: 155, Mad: 0.0559, Loss: 0.5617, Train: 87.57%, Valid: 87.94% Test: 87.39%\n",
      "Epoch: 156, Mad: 0.0560, Loss: 0.5581, Train: 87.59%, Valid: 87.92% Test: 87.37%\n",
      "Epoch: 157, Mad: 0.0559, Loss: 0.5582, Train: 87.60%, Valid: 87.90% Test: 87.39%\n",
      "Epoch: 158, Mad: 0.0559, Loss: 0.5562, Train: 87.61%, Valid: 87.88% Test: 87.40%\n",
      "Epoch: 159, Mad: 0.0560, Loss: 0.5553, Train: 87.63%, Valid: 87.84% Test: 87.41%\n",
      "Epoch: 160, Mad: 0.0561, Loss: 0.5530, Train: 87.63%, Valid: 87.86% Test: 87.41%\n",
      "Epoch: 161, Mad: 0.0561, Loss: 0.5525, Train: 87.65%, Valid: 87.90% Test: 87.43%\n",
      "Epoch: 162, Mad: 0.0562, Loss: 0.5553, Train: 87.67%, Valid: 87.92% Test: 87.45%\n",
      "Epoch: 163, Mad: 0.0561, Loss: 0.5563, Train: 87.68%, Valid: 87.92% Test: 87.45%\n",
      "Epoch: 164, Mad: 0.0562, Loss: 0.5535, Train: 87.68%, Valid: 87.90% Test: 87.47%\n",
      "Epoch: 165, Mad: 0.0562, Loss: 0.5467, Train: 87.70%, Valid: 87.94% Test: 87.51%\n",
      "Epoch: 166, Mad: 0.0560, Loss: 0.5507, Train: 87.72%, Valid: 87.96% Test: 87.50%\n",
      "Epoch: 167, Mad: 0.0562, Loss: 0.5527, Train: 87.71%, Valid: 87.92% Test: 87.49%\n",
      "Epoch: 168, Mad: 0.0563, Loss: 0.5488, Train: 87.73%, Valid: 88.00% Test: 87.47%\n",
      "Epoch: 169, Mad: 0.0565, Loss: 0.5457, Train: 87.74%, Valid: 88.04% Test: 87.50%\n",
      "Epoch: 170, Mad: 0.0564, Loss: 0.5445, Train: 87.74%, Valid: 88.06% Test: 87.51%\n",
      "Epoch: 171, Mad: 0.0561, Loss: 0.5461, Train: 87.76%, Valid: 88.10% Test: 87.53%\n",
      "Epoch: 172, Mad: 0.0566, Loss: 0.5427, Train: 87.78%, Valid: 88.12% Test: 87.54%\n",
      "Epoch: 173, Mad: 0.0566, Loss: 0.5406, Train: 87.79%, Valid: 88.14% Test: 87.58%\n",
      "Epoch: 174, Mad: 0.0564, Loss: 0.5422, Train: 87.80%, Valid: 88.16% Test: 87.57%\n",
      "Epoch: 175, Mad: 0.0564, Loss: 0.5451, Train: 87.81%, Valid: 88.12% Test: 87.57%\n",
      "Epoch: 176, Mad: 0.0569, Loss: 0.5411, Train: 87.82%, Valid: 88.14% Test: 87.58%\n",
      "Epoch: 177, Mad: 0.0567, Loss: 0.5394, Train: 87.83%, Valid: 88.16% Test: 87.58%\n",
      "Epoch: 178, Mad: 0.0563, Loss: 0.5369, Train: 87.82%, Valid: 88.06% Test: 87.59%\n",
      "Epoch: 179, Mad: 0.0569, Loss: 0.5386, Train: 87.83%, Valid: 88.08% Test: 87.62%\n",
      "Epoch: 180, Mad: 0.0567, Loss: 0.5381, Train: 87.84%, Valid: 88.04% Test: 87.62%\n",
      "Epoch: 181, Mad: 0.0567, Loss: 0.5349, Train: 87.84%, Valid: 88.06% Test: 87.62%\n",
      "Epoch: 182, Mad: 0.0570, Loss: 0.5331, Train: 87.86%, Valid: 88.06% Test: 87.63%\n",
      "Epoch: 183, Mad: 0.0569, Loss: 0.5321, Train: 87.87%, Valid: 88.14% Test: 87.64%\n",
      "Epoch: 184, Mad: 0.0570, Loss: 0.5337, Train: 87.89%, Valid: 88.18% Test: 87.63%\n",
      "Epoch: 185, Mad: 0.0567, Loss: 0.5354, Train: 87.90%, Valid: 88.18% Test: 87.65%\n",
      "Epoch: 186, Mad: 0.0573, Loss: 0.5334, Train: 87.91%, Valid: 88.18% Test: 87.67%\n",
      "Epoch: 187, Mad: 0.0568, Loss: 0.5327, Train: 87.93%, Valid: 88.20% Test: 87.67%\n",
      "Epoch: 188, Mad: 0.0571, Loss: 0.5318, Train: 87.96%, Valid: 88.14% Test: 87.70%\n",
      "Epoch: 189, Mad: 0.0565, Loss: 0.5330, Train: 87.97%, Valid: 88.12% Test: 87.67%\n",
      "Epoch: 190, Mad: 0.0571, Loss: 0.5299, Train: 87.97%, Valid: 88.16% Test: 87.70%\n",
      "Epoch: 191, Mad: 0.0570, Loss: 0.5246, Train: 87.97%, Valid: 88.20% Test: 87.71%\n",
      "Epoch: 192, Mad: 0.0571, Loss: 0.5282, Train: 87.99%, Valid: 88.22% Test: 87.71%\n",
      "Epoch: 193, Mad: 0.0572, Loss: 0.5260, Train: 87.98%, Valid: 88.22% Test: 87.68%\n",
      "Epoch: 194, Mad: 0.0571, Loss: 0.5274, Train: 88.00%, Valid: 88.26% Test: 87.69%\n",
      "Epoch: 195, Mad: 0.0571, Loss: 0.5265, Train: 88.02%, Valid: 88.26% Test: 87.71%\n",
      "Epoch: 196, Mad: 0.0570, Loss: 0.5220, Train: 88.03%, Valid: 88.28% Test: 87.72%\n",
      "Epoch: 197, Mad: 0.0572, Loss: 0.5242, Train: 88.05%, Valid: 88.26% Test: 87.75%\n",
      "Epoch: 198, Mad: 0.0573, Loss: 0.5237, Train: 88.07%, Valid: 88.22% Test: 87.73%\n",
      "Epoch: 199, Mad: 0.0571, Loss: 0.5205, Train: 88.09%, Valid: 88.16% Test: 87.72%\n",
      "Epoch: 200, Mad: 0.0574, Loss: 0.5210, Train: 88.09%, Valid: 88.18% Test: 87.72%\n",
      "Best Test Accuracy: 87.72% at Epoch: 196\n"
     ]
    }
   ],
   "source": [
    "import copy\n",
    "import torch.optim as optim\n",
    "import torch.nn as nn\n",
    "import matplotlib.pyplot as plt\n",
    "import math\n",
    "\n",
    "optimizer = optim.Adam(model.parameters(), lr=1e-3)\n",
    "loss_fn = nn.CrossEntropyLoss()\n",
    "#loss_fn = nn.MSELoss()\n",
    "epochs = args['epochs']\n",
    "\n",
    "best_model = None\n",
    "best_valid_acc = 0\n",
    "best_test_acc = 0\n",
    "best_epoch = 0\n",
    "\n",
    "# Initialize lists to store performance data\n",
    "train_accuracies = []\n",
    "valid_accuracies = []\n",
    "test_accuracies = []\n",
    "mad_values = []  # List to store MAD values\n",
    "\n",
    "for epoch in range(1, 1 + epochs):\n",
    "    loss, madgap = train(model, sub_graph, train_idx, optimizer, loss_fn)\n",
    "    result = test(model, sub_graph, split_idx, evaluator)\n",
    "    train_acc, valid_acc, test_acc = result\n",
    "\n",
    "    # Add performance data to lists\n",
    "    train_accuracies.append(train_acc)\n",
    "    valid_accuracies.append(valid_acc)\n",
    "    test_accuracies.append(test_acc)\n",
    "    mad_values.append(madgap.numpy().sum() / len(madgap))  # Record MAD\n",
    "\n",
    "    if valid_acc > best_valid_acc:\n",
    "        best_valid_acc = valid_acc\n",
    "        best_test_acc = test_acc  # Update best test accuracy\n",
    "        best_epoch = epoch  # Update best epoch\n",
    "        best_model = copy.deepcopy(model)\n",
    "\n",
    "    print(\n",
    "        f'Epoch: {epoch:02d}, '\n",
    "        f'Mad: {mad_values[-1]:.4f}, '  # Print current MAD\n",
    "        f'Loss: {loss:.4f}, '\n",
    "        f'Train: {100 * train_acc:.2f}%, '\n",
    "        f'Valid: {100 * valid_acc:.2f}% '\n",
    "        f'Test: {100 * test_acc:.2f}%')\n",
    "\n",
    "# Output best test set result at the end of training\n",
    "print(f'Best Test Accuracy: {100 * best_test_acc:.2f}% at Epoch: {best_epoch}')\n",
    "\n"
   ]
  },
  {
   "cell_type": "code",
   "execution_count": 63,
   "metadata": {
    "colab": {
     "base_uri": "https://localhost:8080/"
    },
    "id": "XJ27uCIw7YjS",
    "outputId": "97b63ed9-23c7-434e-ab11-d841aceb90df"
   },
   "outputs": [
    {
     "name": "stdout",
     "output_type": "stream",
     "text": [
      "Test Accuracy: 0.8886, Precision: 0.8750, Recall: 0.8886, F1 Score: 0.8795\n"
     ]
    },
    {
     "name": "stderr",
     "output_type": "stream",
     "text": [
      "/usr/local/lib/python3.10/dist-packages/sklearn/metrics/_classification.py:1344: UndefinedMetricWarning: Precision is ill-defined and being set to 0.0 in labels with no predicted samples. Use `zero_division` parameter to control this behavior.\n",
      "  _warn_prf(average, modifier, msg_start, len(result))\n"
     ]
    }
   ],
   "source": [
    "from sklearn.metrics import precision_score, recall_score, f1_score, accuracy_score\n",
    "\n",
    "def compute_metrics(model, sub_graph, indices):\n",
    "    model.eval()  # Set the model to evaluation mode\n",
    "    y_true = sub_graph.y[indices].cpu().numpy()  # True labels\n",
    "\n",
    "    with torch.no_grad():\n",
    "        outputs = model(sub_graph.x, sub_graph.edge_index)  # Model predictions\n",
    "        _, predicted = torch.max(outputs[indices], 1)\n",
    "        y_pred = predicted.cpu().numpy()\n",
    "\n",
    "    accuracy = accuracy_score(y_true, y_pred)\n",
    "    precision = precision_score(y_true, y_pred, average='weighted')  # Adjusted for class imbalance\n",
    "    recall = recall_score(y_true, y_pred, average='weighted')  # Adjusted for class imbalance\n",
    "    f1 = f1_score(y_true, y_pred, average='weighted')  # Adjusted for class imbalance\n",
    "\n",
    "    return accuracy, precision, recall, f1\n",
    "\n",
    "# Compute metrics for the best model on the test set\n",
    "test_accuracy, test_precision, test_recall, test_f1 = compute_metrics(best_model, sub_graph, test_idx)\n",
    "print(f'Test Accuracy: {test_accuracy:.4f}, Precision: {test_precision:.4f}, Recall: {test_recall:.4f}, F1 Score: {test_f1:.4f}')\n"
   ]
  },
  {
   "cell_type": "code",
   "execution_count": 49,
   "metadata": {
    "colab": {
     "base_uri": "https://localhost:8080/"
    },
    "id": "olKJoe85egR2",
    "outputId": "ee80100d-467b-4239-9bc8-d3c89042dd59"
   },
   "outputs": [
    {
     "data": {
      "text/plain": [
       "0.846912890625"
      ]
     },
     "execution_count": 49,
     "metadata": {},
     "output_type": "execute_result"
    }
   ],
   "source": [
    "madgap.numpy().sum()/ len(madgap)"
   ]
  },
  {
   "cell_type": "code",
   "execution_count": 50,
   "metadata": {
    "colab": {
     "base_uri": "https://localhost:8080/",
     "height": 337
    },
    "id": "-Yv7bRPVegR2",
    "outputId": "63b289a5-2431-46c0-e988-89954977467e"
   },
   "outputs": [
    {
     "data": {
      "image/png": "[encoded data removed]",
      "text/plain": [
       "<Figure size 1200x500 with 2 Axes>"
      ]
     },
     "metadata": {},
     "output_type": "display_data"
    }
   ],
   "source": [
    "import matplotlib.pyplot as plt\n",
    "\n",
    "# Plot performance curves\n",
    "epochs_range = range(1, 1 + epochs)\n",
    "\n",
    "# Plot for Accuracies\n",
    "plt.figure(figsize=(12, 5))\n",
    "\n",
    "# Plot for Accuracy\n",
    "plt.subplot(1, 2, 1)  # Two plots, this is the first\n",
    "plt.plot(epochs_range, train_accuracies, label='Train Accuracy')\n",
    "plt.plot(epochs_range, valid_accuracies, label='Valid Accuracy')\n",
    "plt.plot(epochs_range, test_accuracies, label='Test Accuracy')\n",
    "plt.xlabel('Epochs')\n",
    "plt.ylabel('Accuracy')\n",
    "plt.title('Model Accuracies Over Epochs')\n",
    "plt.legend()\n",
    "\n",
    "# Plot for MAD\n",
    "plt.subplot(1, 2, 2)  # Two plots, this is the second\n",
    "plt.plot(epochs_range, mad_values, label='MAD', color='red')\n",
    "plt.xlabel('Epochs')\n",
    "plt.ylabel('MAD')\n",
    "plt.title('Mean Absolute Difference (MAD) Over Epochs')\n",
    "plt.legend()\n",
    "\n",
    "plt.tight_layout()\n",
    "plt.show()\n"
   ]
  },
  {
   "cell_type": "code",
   "execution_count": 44,
   "metadata": {
    "colab": {
     "base_uri": "https://localhost:8080/"
    },
    "id": "0KcoDqzpUnFl",
    "outputId": "0a5de2e5-8694-4bb9-e8eb-054d177c8cc9"
   },
   "outputs": [
    {
     "name": "stdout",
     "output_type": "stream",
     "text": [
      "Saving Model Predictions\n",
      "Best model: Train: 88.74%, Valid: 87.74% Test: 88.35%\n"
     ]
    }
   ],
   "source": [
    "best_result = test(best_model, sub_graph, split_idx, evaluator, save_model_results=True)\n",
    "train_acc, valid_acc, test_acc = best_result\n",
    "print(f'Best model: '\n",
    "      f'Train: {100 * train_acc:.2f}%, '\n",
    "      f'Valid: {100 * valid_acc:.2f}% '\n",
    "      f'Test: {100 * test_acc:.2f}%')"
   ]
  },
  {
   "cell_type": "code",
   "execution_count": null,
   "metadata": {
    "id": "DjP8vFMUegR2"
   },
   "outputs": [],
   "source": []
  }
 ],
 "metadata": {
  "accelerator": "GPU",
  "colab": {
   "gpuType": "V100",
   "machine_shape": "hm",
   "provenance": [],
   "toc_visible": true
  },
  "kernelspec": {
   "display_name": "Python 3 (ipykernel)",
   "language": "python",
   "name": "python3"
  },
  "language_info": {
   "codemirror_mode": {
    "name": "ipython",
    "version": 3
   },
   "file_extension": ".py",
   "mimetype": "text/x-python",
   "name": "python",
   "nbconvert_exporter": "python",
   "pygments_lexer": "ipython3",
   "version": "3.7.13"
  }
 },
 "nbformat": 4,
 "nbformat_minor": 1
}
